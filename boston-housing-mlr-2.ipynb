{
 "cells": [
  {
   "cell_type": "code",
   "execution_count": 1,
   "id": "d4cc7986",
   "metadata": {
    "_cell_guid": "b1076dfc-b9ad-4769-8c92-a6c4dae69d19",
    "_uuid": "8f2839f25d086af736a60e9eeb907d3b93b6e0e5",
    "execution": {
     "iopub.execute_input": "2024-02-27T13:17:53.466580Z",
     "iopub.status.busy": "2024-02-27T13:17:53.466231Z",
     "iopub.status.idle": "2024-02-27T13:17:55.653077Z",
     "shell.execute_reply": "2024-02-27T13:17:55.651967Z"
    },
    "papermill": {
     "duration": 2.196361,
     "end_time": "2024-02-27T13:17:55.655390",
     "exception": false,
     "start_time": "2024-02-27T13:17:53.459029",
     "status": "completed"
    },
    "tags": []
   },
   "outputs": [
    {
     "name": "stdout",
     "output_type": "stream",
     "text": [
      "/kaggle/input/bostonhoustingmlnd/housing.csv\n",
      "Index(['RM', 'LSTAT', 'PTRATIO', 'MEDV'], dtype='object')\n"
     ]
    }
   ],
   "source": [
    "import numpy as np\n",
    "import pandas as pd \n",
    "import matplotlib.pyplot as plt\n",
    "from sklearn.model_selection import train_test_split\n",
    "from sklearn.linear_model import LinearRegression\n",
    "from  sklearn.metrics import r2_score\n",
    "\n",
    "import os\n",
    "for dirname, _, filenames in os.walk('/kaggle/input'):\n",
    "    for filename in filenames:\n",
    "        print(os.path.join(dirname, filename))\n",
    "\n",
    "df = pd.read_csv('/kaggle/input/bostonhoustingmlnd/housing.csv')\n",
    "\n",
    "print(df.columns)"
   ]
  },
  {
   "cell_type": "code",
   "execution_count": 2,
   "id": "01e85a67",
   "metadata": {
    "execution": {
     "iopub.execute_input": "2024-02-27T13:17:55.666761Z",
     "iopub.status.busy": "2024-02-27T13:17:55.666350Z",
     "iopub.status.idle": "2024-02-27T13:17:55.678788Z",
     "shell.execute_reply": "2024-02-27T13:17:55.677441Z"
    },
    "papermill": {
     "duration": 0.02053,
     "end_time": "2024-02-27T13:17:55.680987",
     "exception": false,
     "start_time": "2024-02-27T13:17:55.660457",
     "status": "completed"
    },
    "tags": []
   },
   "outputs": [
    {
     "name": "stdout",
     "output_type": "stream",
     "text": [
      "      RM  LSTAT  PTRATIO      MEDV\n",
      "0  6.575   4.98     15.3  504000.0\n",
      "1  6.421   9.14     17.8  453600.0\n",
      "2  7.185   4.03     17.8  728700.0\n",
      "3  6.998   2.94     18.7  701400.0\n",
      "4  7.147   5.33     18.7  760200.0\n"
     ]
    }
   ],
   "source": [
    "print(df.head())"
   ]
  },
  {
   "cell_type": "code",
   "execution_count": 3,
   "id": "b828d373",
   "metadata": {
    "execution": {
     "iopub.execute_input": "2024-02-27T13:17:55.692004Z",
     "iopub.status.busy": "2024-02-27T13:17:55.691684Z",
     "iopub.status.idle": "2024-02-27T13:17:55.700738Z",
     "shell.execute_reply": "2024-02-27T13:17:55.699826Z"
    },
    "papermill": {
     "duration": 0.017069,
     "end_time": "2024-02-27T13:17:55.702958",
     "exception": false,
     "start_time": "2024-02-27T13:17:55.685889",
     "status": "completed"
    },
    "tags": []
   },
   "outputs": [
    {
     "data": {
      "text/plain": [
       "RM         0\n",
       "LSTAT      0\n",
       "PTRATIO    0\n",
       "MEDV       0\n",
       "dtype: int64"
      ]
     },
     "execution_count": 3,
     "metadata": {},
     "output_type": "execute_result"
    }
   ],
   "source": [
    "df.isnull().sum()"
   ]
  },
  {
   "cell_type": "code",
   "execution_count": 4,
   "id": "95702e0d",
   "metadata": {
    "execution": {
     "iopub.execute_input": "2024-02-27T13:17:55.714317Z",
     "iopub.status.busy": "2024-02-27T13:17:55.713798Z",
     "iopub.status.idle": "2024-02-27T13:17:55.730109Z",
     "shell.execute_reply": "2024-02-27T13:17:55.728992Z"
    },
    "papermill": {
     "duration": 0.02431,
     "end_time": "2024-02-27T13:17:55.732258",
     "exception": false,
     "start_time": "2024-02-27T13:17:55.707948",
     "status": "completed"
    },
    "tags": []
   },
   "outputs": [
    {
     "name": "stdout",
     "output_type": "stream",
     "text": [
      "        RM  LSTAT  PTRATIO\n",
      "0    6.575   4.98     15.3\n",
      "1    6.421   9.14     17.8\n",
      "2    7.185   4.03     17.8\n",
      "3    6.998   2.94     18.7\n",
      "4    7.147   5.33     18.7\n",
      "..     ...    ...      ...\n",
      "484  6.593   9.67     21.0\n",
      "485  6.120   9.08     21.0\n",
      "486  6.976   5.64     21.0\n",
      "487  6.794   6.48     21.0\n",
      "488  6.030   7.88     21.0\n",
      "\n",
      "[489 rows x 3 columns]\n"
     ]
    }
   ],
   "source": [
    "X = df.drop(columns = 'MEDV')\n",
    "print(X)"
   ]
  },
  {
   "cell_type": "code",
   "execution_count": 5,
   "id": "72714375",
   "metadata": {
    "execution": {
     "iopub.execute_input": "2024-02-27T13:17:55.744071Z",
     "iopub.status.busy": "2024-02-27T13:17:55.743087Z",
     "iopub.status.idle": "2024-02-27T13:17:55.751938Z",
     "shell.execute_reply": "2024-02-27T13:17:55.750793Z"
    },
    "papermill": {
     "duration": 0.016911,
     "end_time": "2024-02-27T13:17:55.754145",
     "exception": false,
     "start_time": "2024-02-27T13:17:55.737234",
     "status": "completed"
    },
    "tags": []
   },
   "outputs": [
    {
     "name": "stdout",
     "output_type": "stream",
     "text": [
      "0      504000.0\n",
      "1      453600.0\n",
      "2      728700.0\n",
      "3      701400.0\n",
      "4      760200.0\n",
      "         ...   \n",
      "484    470400.0\n",
      "485    432600.0\n",
      "486    501900.0\n",
      "487    462000.0\n",
      "488    249900.0\n",
      "Name: MEDV, Length: 489, dtype: float64\n"
     ]
    }
   ],
   "source": [
    "y = df['MEDV']\n",
    "print(y)"
   ]
  },
  {
   "cell_type": "code",
   "execution_count": 6,
   "id": "cc80dcb4",
   "metadata": {
    "execution": {
     "iopub.execute_input": "2024-02-27T13:17:55.765769Z",
     "iopub.status.busy": "2024-02-27T13:17:55.765080Z",
     "iopub.status.idle": "2024-02-27T13:17:55.772571Z",
     "shell.execute_reply": "2024-02-27T13:17:55.771807Z"
    },
    "papermill": {
     "duration": 0.01558,
     "end_time": "2024-02-27T13:17:55.774734",
     "exception": false,
     "start_time": "2024-02-27T13:17:55.759154",
     "status": "completed"
    },
    "tags": []
   },
   "outputs": [],
   "source": [
    "X_train, X_test, y_train, y_test = train_test_split(X, y, test_size = 0.5, random_state = 0)"
   ]
  },
  {
   "cell_type": "code",
   "execution_count": 7,
   "id": "4b04cb0d",
   "metadata": {
    "execution": {
     "iopub.execute_input": "2024-02-27T13:17:55.786340Z",
     "iopub.status.busy": "2024-02-27T13:17:55.785451Z",
     "iopub.status.idle": "2024-02-27T13:17:55.789925Z",
     "shell.execute_reply": "2024-02-27T13:17:55.788970Z"
    },
    "papermill": {
     "duration": 0.012356,
     "end_time": "2024-02-27T13:17:55.791935",
     "exception": false,
     "start_time": "2024-02-27T13:17:55.779579",
     "status": "completed"
    },
    "tags": []
   },
   "outputs": [],
   "source": [
    "lr = LinearRegression()"
   ]
  },
  {
   "cell_type": "code",
   "execution_count": 8,
   "id": "8772899b",
   "metadata": {
    "execution": {
     "iopub.execute_input": "2024-02-27T13:17:55.803340Z",
     "iopub.status.busy": "2024-02-27T13:17:55.802990Z",
     "iopub.status.idle": "2024-02-27T13:17:55.829847Z",
     "shell.execute_reply": "2024-02-27T13:17:55.828762Z"
    },
    "papermill": {
     "duration": 0.035298,
     "end_time": "2024-02-27T13:17:55.832201",
     "exception": false,
     "start_time": "2024-02-27T13:17:55.796903",
     "status": "completed"
    },
    "tags": []
   },
   "outputs": [
    {
     "name": "stdout",
     "output_type": "stream",
     "text": [
      "386746.9093974322\n",
      "[ 96724.54357882  -9881.92207266 -21992.81322672]\n"
     ]
    }
   ],
   "source": [
    "lr.fit(X_train, y_train)\n",
    "c = lr.intercept_\n",
    "m = lr.coef_\n",
    "\n",
    "print(c)\n",
    "print(m)"
   ]
  },
  {
   "cell_type": "code",
   "execution_count": 9,
   "id": "0acefcd7",
   "metadata": {
    "execution": {
     "iopub.execute_input": "2024-02-27T13:17:55.844587Z",
     "iopub.status.busy": "2024-02-27T13:17:55.844211Z",
     "iopub.status.idle": "2024-02-27T13:17:55.850426Z",
     "shell.execute_reply": "2024-02-27T13:17:55.849460Z"
    },
    "papermill": {
     "duration": 0.014911,
     "end_time": "2024-02-27T13:17:55.852659",
     "exception": false,
     "start_time": "2024-02-27T13:17:55.837748",
     "status": "completed"
    },
    "tags": []
   },
   "outputs": [],
   "source": [
    "y_pred_train = lr.predict(X_train)"
   ]
  },
  {
   "cell_type": "code",
   "execution_count": 10,
   "id": "dae52a86",
   "metadata": {
    "execution": {
     "iopub.execute_input": "2024-02-27T13:17:55.864405Z",
     "iopub.status.busy": "2024-02-27T13:17:55.864079Z",
     "iopub.status.idle": "2024-02-27T13:17:55.871137Z",
     "shell.execute_reply": "2024-02-27T13:17:55.870165Z"
    },
    "papermill": {
     "duration": 0.015407,
     "end_time": "2024-02-27T13:17:55.873311",
     "exception": false,
     "start_time": "2024-02-27T13:17:55.857904",
     "status": "completed"
    },
    "tags": []
   },
   "outputs": [
    {
     "data": {
      "text/plain": [
       "0.7484592038702251"
      ]
     },
     "execution_count": 10,
     "metadata": {},
     "output_type": "execute_result"
    }
   ],
   "source": [
    "r2_score(y_train, y_pred_train)"
   ]
  },
  {
   "cell_type": "code",
   "execution_count": 11,
   "id": "3da3f662",
   "metadata": {
    "execution": {
     "iopub.execute_input": "2024-02-27T13:17:55.885515Z",
     "iopub.status.busy": "2024-02-27T13:17:55.885103Z",
     "iopub.status.idle": "2024-02-27T13:17:55.893776Z",
     "shell.execute_reply": "2024-02-27T13:17:55.892762Z"
    },
    "papermill": {
     "duration": 0.017251,
     "end_time": "2024-02-27T13:17:55.895923",
     "exception": false,
     "start_time": "2024-02-27T13:17:55.878672",
     "status": "completed"
    },
    "tags": []
   },
   "outputs": [
    {
     "data": {
      "text/plain": [
       "0.6850276093974875"
      ]
     },
     "execution_count": 11,
     "metadata": {},
     "output_type": "execute_result"
    }
   ],
   "source": [
    "y_pred_test = lr.predict(X_test)\n",
    "r2_score(y_test, y_pred_test)"
   ]
  },
  {
   "cell_type": "code",
   "execution_count": 12,
   "id": "6e407220",
   "metadata": {
    "execution": {
     "iopub.execute_input": "2024-02-27T13:17:55.908058Z",
     "iopub.status.busy": "2024-02-27T13:17:55.907730Z",
     "iopub.status.idle": "2024-02-27T13:17:56.247359Z",
     "shell.execute_reply": "2024-02-27T13:17:56.246567Z"
    },
    "papermill": {
     "duration": 0.348375,
     "end_time": "2024-02-27T13:17:56.249696",
     "exception": false,
     "start_time": "2024-02-27T13:17:55.901321",
     "status": "completed"
    },
    "tags": []
   },
   "outputs": [
    {
     "data": {
      "text/plain": [
       "<matplotlib.collections.PathCollection at 0x79a5db796440>"
      ]
     },
     "execution_count": 12,
     "metadata": {},
     "output_type": "execute_result"
    },
    {
     "data": {
      "image/png": "[encoded data removed]",
      "text/plain": [
       "<Figure size 640x480 with 1 Axes>"
      ]
     },
     "metadata": {},
     "output_type": "display_data"
    }
   ],
   "source": [
    "plt.scatter(y_train, y_pred_train)\n",
    "\n",
    "plt.ylabel('Actual Price')\n",
    "plt.xlabel('Predicted Price')\n",
    "\n",
    "plt.scatter(y_test, y_pred_test, color='red')"
   ]
  }
 ],
 "metadata": {
  "kaggle": {
   "accelerator": "none",
   "dataSources": [
    {
     "datasetId": 1379,
     "sourceId": 2485,
     "sourceType": "datasetVersion"
    }
   ],
   "dockerImageVersionId": 30646,
   "isGpuEnabled": false,
   "isInternetEnabled": false,
   "language": "python",
   "sourceType": "notebook"
  },
  "kernelspec": {
   "display_name": "Python 3",
   "language": "python",
   "name": "python3"
  },
  "language_info": {
   "codemirror_mode": {
    "name": "ipython",
    "version": 3
   },
   "file_extension": ".py",
   "mimetype": "text/x-python",
   "name": "python",
   "nbconvert_exporter": "python",
   "pygments_lexer": "ipython3",
   "version": "3.10.13"
  },
  "papermill": {
   "default_parameters": {},
   "duration": 6.111635,
   "end_time": "2024-02-27T13:17:56.777579",
   "environment_variables": {},
   "exception": null,
   "input_path": "__notebook__.ipynb",
   "output_path": "__notebook__.ipynb",
   "parameters": {},
   "start_time": "2024-02-27T13:17:50.665944",
   "version": "2.5.0"
  }
 },
 "nbformat": 4,
 "nbformat_minor": 5
}
