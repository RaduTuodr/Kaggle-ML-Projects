{
 "cells": [
  {
   "cell_type": "code",
   "execution_count": 1,
   "id": "41407cd7",
   "metadata": {
    "_cell_guid": "b1076dfc-b9ad-4769-8c92-a6c4dae69d19",
    "_uuid": "8f2839f25d086af736a60e9eeb907d3b93b6e0e5",
    "execution": {
     "iopub.execute_input": "2024-02-28T21:01:04.344192Z",
     "iopub.status.busy": "2024-02-28T21:01:04.343495Z",
     "iopub.status.idle": "2024-02-28T21:01:07.105903Z",
     "shell.execute_reply": "2024-02-28T21:01:07.104222Z"
    },
    "papermill": {
     "duration": 2.770329,
     "end_time": "2024-02-28T21:01:07.108289",
     "exception": false,
     "start_time": "2024-02-28T21:01:04.337960",
     "status": "completed"
    },
    "tags": []
   },
   "outputs": [
    {
     "name": "stdout",
     "output_type": "stream",
     "text": [
      "/kaggle/input/breast-cancer-dataset/breast-cancer.csv\n"
     ]
    }
   ],
   "source": [
    "import numpy as np \n",
    "import pandas as pd\n",
    "\n",
    "from sklearn.model_selection import train_test_split\n",
    "from sklearn.preprocessing import LabelEncoder \n",
    "from sklearn.linear_model import LogisticRegression\n",
    "from sklearn.metrics import accuracy_score, f1_score\n",
    "from sklearn.datasets import load_breast_cancer\n",
    "\n",
    "import os\n",
    "for dirname, _, filenames in os.walk('/kaggle/input'):\n",
    "    for filename in filenames:\n",
    "        print(os.path.join(dirname, filename))\n",
    "\n",
    "breast_cancer_data = load_breast_cancer()\n",
    "df = pd.DataFrame(breast_cancer_data.data, columns = breast_cancer_data.feature_names)"
   ]
  },
  {
   "cell_type": "code",
   "execution_count": 2,
   "id": "66bda14b",
   "metadata": {
    "execution": {
     "iopub.execute_input": "2024-02-28T21:01:07.118716Z",
     "iopub.status.busy": "2024-02-28T21:01:07.117992Z",
     "iopub.status.idle": "2024-02-28T21:01:07.127529Z",
     "shell.execute_reply": "2024-02-28T21:01:07.126308Z"
    },
    "papermill": {
     "duration": 0.017571,
     "end_time": "2024-02-28T21:01:07.129839",
     "exception": false,
     "start_time": "2024-02-28T21:01:07.112268",
     "status": "completed"
    },
    "tags": []
   },
   "outputs": [],
   "source": [
    "# adding target column to df\n",
    "df['label'] = breast_cancer_data.target"
   ]
  },
  {
   "cell_type": "code",
   "execution_count": 3,
   "id": "f1d8c519",
   "metadata": {
    "execution": {
     "iopub.execute_input": "2024-02-28T21:01:07.140270Z",
     "iopub.status.busy": "2024-02-28T21:01:07.139546Z",
     "iopub.status.idle": "2024-02-28T21:01:07.152694Z",
     "shell.execute_reply": "2024-02-28T21:01:07.151660Z"
    },
    "papermill": {
     "duration": 0.02115,
     "end_time": "2024-02-28T21:01:07.154818",
     "exception": false,
     "start_time": "2024-02-28T21:01:07.133668",
     "status": "completed"
    },
    "tags": []
   },
   "outputs": [],
   "source": [
    "X = df.drop(columns='label')\n",
    "y = df['label']"
   ]
  },
  {
   "cell_type": "code",
   "execution_count": 4,
   "id": "dc9587c6",
   "metadata": {
    "execution": {
     "iopub.execute_input": "2024-02-28T21:01:07.164122Z",
     "iopub.status.busy": "2024-02-28T21:01:07.163504Z",
     "iopub.status.idle": "2024-02-28T21:01:07.177054Z",
     "shell.execute_reply": "2024-02-28T21:01:07.175381Z"
    },
    "papermill": {
     "duration": 0.020834,
     "end_time": "2024-02-28T21:01:07.179485",
     "exception": false,
     "start_time": "2024-02-28T21:01:07.158651",
     "status": "completed"
    },
    "tags": []
   },
   "outputs": [
    {
     "name": "stdout",
     "output_type": "stream",
     "text": [
      "label\n",
      "1    357\n",
      "0    212\n",
      "Name: count, dtype: int64\n"
     ]
    }
   ],
   "source": [
    "print(df['label'].value_counts())"
   ]
  },
  {
   "cell_type": "markdown",
   "id": "24e75940",
   "metadata": {
    "papermill": {
     "duration": 0.00328,
     "end_time": "2024-02-28T21:01:07.186437",
     "exception": false,
     "start_time": "2024-02-28T21:01:07.183157",
     "status": "completed"
    },
    "tags": []
   },
   "source": [
    "Since aprox. 62% of the sample data results in a Benign-type cell, then we can conclude:\n",
    "* 0 -> Cell is Malignant\n",
    "* 1 -> Cell is Benign"
   ]
  },
  {
   "cell_type": "markdown",
   "id": "27fb5946",
   "metadata": {
    "papermill": {
     "duration": 0.003333,
     "end_time": "2024-02-28T21:01:07.193281",
     "exception": false,
     "start_time": "2024-02-28T21:01:07.189948",
     "status": "completed"
    },
    "tags": []
   },
   "source": [
    "* Check for any missing data"
   ]
  },
  {
   "cell_type": "code",
   "execution_count": 5,
   "id": "5c45edee",
   "metadata": {
    "execution": {
     "iopub.execute_input": "2024-02-28T21:01:07.202408Z",
     "iopub.status.busy": "2024-02-28T21:01:07.201970Z",
     "iopub.status.idle": "2024-02-28T21:01:07.213680Z",
     "shell.execute_reply": "2024-02-28T21:01:07.210836Z"
    },
    "papermill": {
     "duration": 0.019587,
     "end_time": "2024-02-28T21:01:07.216493",
     "exception": false,
     "start_time": "2024-02-28T21:01:07.196906",
     "status": "completed"
    },
    "tags": []
   },
   "outputs": [
    {
     "name": "stdout",
     "output_type": "stream",
     "text": [
      "mean radius                0\n",
      "mean texture               0\n",
      "mean perimeter             0\n",
      "mean area                  0\n",
      "mean smoothness            0\n",
      "mean compactness           0\n",
      "mean concavity             0\n",
      "mean concave points        0\n",
      "mean symmetry              0\n",
      "mean fractal dimension     0\n",
      "radius error               0\n",
      "texture error              0\n",
      "perimeter error            0\n",
      "area error                 0\n",
      "smoothness error           0\n",
      "compactness error          0\n",
      "concavity error            0\n",
      "concave points error       0\n",
      "symmetry error             0\n",
      "fractal dimension error    0\n",
      "worst radius               0\n",
      "worst texture              0\n",
      "worst perimeter            0\n",
      "worst area                 0\n",
      "worst smoothness           0\n",
      "worst compactness          0\n",
      "worst concavity            0\n",
      "worst concave points       0\n",
      "worst symmetry             0\n",
      "worst fractal dimension    0\n",
      "label                      0\n",
      "dtype: int64\n"
     ]
    }
   ],
   "source": [
    "print(df.isnull().sum())"
   ]
  },
  {
   "cell_type": "markdown",
   "id": "f495a9e2",
   "metadata": {
    "papermill": {
     "duration": 0.005227,
     "end_time": "2024-02-28T21:01:07.227273",
     "exception": false,
     "start_time": "2024-02-28T21:01:07.222046",
     "status": "completed"
    },
    "tags": []
   },
   "source": [
    "* Split data into training and testing"
   ]
  },
  {
   "cell_type": "code",
   "execution_count": 6,
   "id": "37a53bf8",
   "metadata": {
    "execution": {
     "iopub.execute_input": "2024-02-28T21:01:07.239053Z",
     "iopub.status.busy": "2024-02-28T21:01:07.238506Z",
     "iopub.status.idle": "2024-02-28T21:01:07.246037Z",
     "shell.execute_reply": "2024-02-28T21:01:07.245047Z"
    },
    "papermill": {
     "duration": 0.01563,
     "end_time": "2024-02-28T21:01:07.247966",
     "exception": false,
     "start_time": "2024-02-28T21:01:07.232336",
     "status": "completed"
    },
    "tags": []
   },
   "outputs": [],
   "source": [
    "# train test split\n",
    "X_train, X_test, y_train, y_test = train_test_split(X, y, test_size=0.5, random_state=0)"
   ]
  },
  {
   "cell_type": "code",
   "execution_count": 7,
   "id": "75d3841d",
   "metadata": {
    "execution": {
     "iopub.execute_input": "2024-02-28T21:01:07.258497Z",
     "iopub.status.busy": "2024-02-28T21:01:07.258161Z",
     "iopub.status.idle": "2024-02-28T21:01:07.296061Z",
     "shell.execute_reply": "2024-02-28T21:01:07.294285Z"
    },
    "papermill": {
     "duration": 0.046549,
     "end_time": "2024-02-28T21:01:07.298577",
     "exception": false,
     "start_time": "2024-02-28T21:01:07.252028",
     "status": "completed"
    },
    "tags": []
   },
   "outputs": [
    {
     "name": "stderr",
     "output_type": "stream",
     "text": [
      "/opt/conda/lib/python3.10/site-packages/sklearn/linear_model/_logistic.py:458: ConvergenceWarning: lbfgs failed to converge (status=1):\n",
      "STOP: TOTAL NO. of ITERATIONS REACHED LIMIT.\n",
      "\n",
      "Increase the number of iterations (max_iter) or scale the data as shown in:\n",
      "    https://scikit-learn.org/stable/modules/preprocessing.html\n",
      "Please also refer to the documentation for alternative solver options:\n",
      "    https://scikit-learn.org/stable/modules/linear_model.html#logistic-regression\n",
      "  n_iter_i = _check_optimize_result(\n"
     ]
    },
    {
     "data": {
      "text/html": [
       "<style>#sk-container-id-1 {color: black;background-color: white;}#sk-container-id-1 pre{padding: 0;}#sk-container-id-1 div.sk-toggleable {background-color: white;}#sk-container-id-1 label.sk-toggleable__label {cursor: pointer;display: block;width: 100%;margin-bottom: 0;padding: 0.3em;box-sizing: border-box;text-align: center;}#sk-container-id-1 label.sk-toggleable__label-arrow:before {content: \"▸\";float: left;margin-right: 0.25em;color: #696969;}#sk-container-id-1 label.sk-toggleable__label-arrow:hover:before {color: black;}#sk-container-id-1 div.sk-estimator:hover label.sk-toggleable__label-arrow:before {color: black;}#sk-container-id-1 div.sk-toggleable__content {max-height: 0;max-width: 0;overflow: hidden;text-align: left;background-color: #f0f8ff;}#sk-container-id-1 div.sk-toggleable__content pre {margin: 0.2em;color: black;border-radius: 0.25em;background-color: #f0f8ff;}#sk-container-id-1 input.sk-toggleable__control:checked~div.sk-toggleable__content {max-height: 200px;max-width: 100%;overflow: auto;}#sk-container-id-1 input.sk-toggleable__control:checked~label.sk-toggleable__label-arrow:before {content: \"▾\";}#sk-container-id-1 div.sk-estimator input.sk-toggleable__control:checked~label.sk-toggleable__label {background-color: #d4ebff;}#sk-container-id-1 div.sk-label input.sk-toggleable__control:checked~label.sk-toggleable__label {background-color: #d4ebff;}#sk-container-id-1 input.sk-hidden--visually {border: 0;clip: rect(1px 1px 1px 1px);clip: rect(1px, 1px, 1px, 1px);height: 1px;margin: -1px;overflow: hidden;padding: 0;position: absolute;width: 1px;}#sk-container-id-1 div.sk-estimator {font-family: monospace;background-color: #f0f8ff;border: 1px dotted black;border-radius: 0.25em;box-sizing: border-box;margin-bottom: 0.5em;}#sk-container-id-1 div.sk-estimator:hover {background-color: #d4ebff;}#sk-container-id-1 div.sk-parallel-item::after {content: \"\";width: 100%;border-bottom: 1px solid gray;flex-grow: 1;}#sk-container-id-1 div.sk-label:hover label.sk-toggleable__label {background-color: #d4ebff;}#sk-container-id-1 div.sk-serial::before {content: \"\";position: absolute;border-left: 1px solid gray;box-sizing: border-box;top: 0;bottom: 0;left: 50%;z-index: 0;}#sk-container-id-1 div.sk-serial {display: flex;flex-direction: column;align-items: center;background-color: white;padding-right: 0.2em;padding-left: 0.2em;position: relative;}#sk-container-id-1 div.sk-item {position: relative;z-index: 1;}#sk-container-id-1 div.sk-parallel {display: flex;align-items: stretch;justify-content: center;background-color: white;position: relative;}#sk-container-id-1 div.sk-item::before, #sk-container-id-1 div.sk-parallel-item::before {content: \"\";position: absolute;border-left: 1px solid gray;box-sizing: border-box;top: 0;bottom: 0;left: 50%;z-index: -1;}#sk-container-id-1 div.sk-parallel-item {display: flex;flex-direction: column;z-index: 1;position: relative;background-color: white;}#sk-container-id-1 div.sk-parallel-item:first-child::after {align-self: flex-end;width: 50%;}#sk-container-id-1 div.sk-parallel-item:last-child::after {align-self: flex-start;width: 50%;}#sk-container-id-1 div.sk-parallel-item:only-child::after {width: 0;}#sk-container-id-1 div.sk-dashed-wrapped {border: 1px dashed gray;margin: 0 0.4em 0.5em 0.4em;box-sizing: border-box;padding-bottom: 0.4em;background-color: white;}#sk-container-id-1 div.sk-label label {font-family: monospace;font-weight: bold;display: inline-block;line-height: 1.2em;}#sk-container-id-1 div.sk-label-container {text-align: center;}#sk-container-id-1 div.sk-container {/* jupyter's `normalize.less` sets `[hidden] { display: none; }` but bootstrap.min.css set `[hidden] { display: none !important; }` so we also need the `!important` here to be able to override the default hidden behavior on the sphinx rendered scikit-learn.org. See: https://github.com/scikit-learn/scikit-learn/issues/21755 */display: inline-block !important;position: relative;}#sk-container-id-1 div.sk-text-repr-fallback {display: none;}</style><div id=\"sk-container-id-1\" class=\"sk-top-container\"><div class=\"sk-text-repr-fallback\"><pre>LogisticRegression()</pre><b>In a Jupyter environment, please rerun this cell to show the HTML representation or trust the notebook. <br />On GitHub, the HTML representation is unable to render, please try loading this page with nbviewer.org.</b></div><div class=\"sk-container\" hidden><div class=\"sk-item\"><div class=\"sk-estimator sk-toggleable\"><input class=\"sk-toggleable__control sk-hidden--visually\" id=\"sk-estimator-id-1\" type=\"checkbox\" checked><label for=\"sk-estimator-id-1\" class=\"sk-toggleable__label sk-toggleable__label-arrow\">LogisticRegression</label><div class=\"sk-toggleable__content\"><pre>LogisticRegression()</pre></div></div></div></div></div>"
      ],
      "text/plain": [
       "LogisticRegression()"
      ]
     },
     "execution_count": 7,
     "metadata": {},
     "output_type": "execute_result"
    }
   ],
   "source": [
    "# Model training\n",
    "model = LogisticRegression()\n",
    "model.fit(X_train, y_train)"
   ]
  },
  {
   "cell_type": "markdown",
   "id": "26621a35",
   "metadata": {
    "papermill": {
     "duration": 0.004333,
     "end_time": "2024-02-28T21:01:07.308058",
     "exception": false,
     "start_time": "2024-02-28T21:01:07.303725",
     "status": "completed"
    },
    "tags": []
   },
   "source": [
    "# Logistic Model \n",
    "* generate different predictions \n",
    "* measure their accuracy"
   ]
  },
  {
   "cell_type": "code",
   "execution_count": 8,
   "id": "8207d1d4",
   "metadata": {
    "execution": {
     "iopub.execute_input": "2024-02-28T21:01:07.318483Z",
     "iopub.status.busy": "2024-02-28T21:01:07.318130Z",
     "iopub.status.idle": "2024-02-28T21:01:07.327050Z",
     "shell.execute_reply": "2024-02-28T21:01:07.325468Z"
    },
    "papermill": {
     "duration": 0.01725,
     "end_time": "2024-02-28T21:01:07.329560",
     "exception": false,
     "start_time": "2024-02-28T21:01:07.312310",
     "status": "completed"
    },
    "tags": []
   },
   "outputs": [],
   "source": [
    "#  get predictions \n",
    "y_train_pred = model.predict(X_train)\n",
    "y_test_pred = model.predict(X_test)"
   ]
  },
  {
   "cell_type": "code",
   "execution_count": 9,
   "id": "9cc2ca14",
   "metadata": {
    "execution": {
     "iopub.execute_input": "2024-02-28T21:01:07.340524Z",
     "iopub.status.busy": "2024-02-28T21:01:07.340150Z",
     "iopub.status.idle": "2024-02-28T21:01:07.350160Z",
     "shell.execute_reply": "2024-02-28T21:01:07.348348Z"
    },
    "papermill": {
     "duration": 0.018104,
     "end_time": "2024-02-28T21:01:07.352625",
     "exception": false,
     "start_time": "2024-02-28T21:01:07.334521",
     "status": "completed"
    },
    "tags": []
   },
   "outputs": [
    {
     "name": "stdout",
     "output_type": "stream",
     "text": [
      "96.8\n",
      "95.4\n"
     ]
    }
   ],
   "source": [
    "# measure predictions' accuracy\n",
    "train_accuracy = accuracy_score(y_train, y_train_pred)\n",
    "print(int(1000 * train_accuracy) / 10)\n",
    "\n",
    "test_accuracy = accuracy_score(y_test, y_test_pred)\n",
    "print(int(1000 * test_accuracy) / 10)"
   ]
  },
  {
   "cell_type": "markdown",
   "id": "02701d7d",
   "metadata": {
    "papermill": {
     "duration": 0.004006,
     "end_time": "2024-02-28T21:01:07.361192",
     "exception": false,
     "start_time": "2024-02-28T21:01:07.357186",
     "status": "completed"
    },
    "tags": []
   },
   "source": [
    "# Prediction system\n",
    "Make a prediction system for checking manually a new cell's information and return the diagnosis (label)"
   ]
  },
  {
   "cell_type": "code",
   "execution_count": 10,
   "id": "dc3fecc6",
   "metadata": {
    "execution": {
     "iopub.execute_input": "2024-02-28T21:01:07.371970Z",
     "iopub.status.busy": "2024-02-28T21:01:07.371613Z",
     "iopub.status.idle": "2024-02-28T21:01:07.468724Z",
     "shell.execute_reply": "2024-02-28T21:01:07.467186Z"
    },
    "papermill": {
     "duration": 0.105348,
     "end_time": "2024-02-28T21:01:07.471405",
     "exception": false,
     "start_time": "2024-02-28T21:01:07.366057",
     "status": "completed"
    },
    "tags": []
   },
   "outputs": [
    {
     "name": "stdout",
     "output_type": "stream",
     "text": [
      "The cell is Benign\n"
     ]
    },
    {
     "name": "stderr",
     "output_type": "stream",
     "text": [
      "/opt/conda/lib/python3.10/site-packages/sklearn/base.py:439: UserWarning: X does not have valid feature names, but LogisticRegression was fitted with feature names\n",
      "  warnings.warn(\n"
     ]
    }
   ],
   "source": [
    "input_features = (11.76,21.6,74.72,427.9,0.08637,0.04966,0.01657,0.01115,0.1495,0.05888,0.4062,1.21,2.635,28.47,0.005857,0.009758,0.01168,0.007445,0.02406,0.001769,12.98,25.72,82.98,516.5,0.1085,0.08615,0.05523,0.03715,0.2433,0.06563)\n",
    "numpy_input_features = np.asarray(input_features)\n",
    "input_reshaped = numpy_input_features.reshape(1, -1)\n",
    "\n",
    "prediction = model.predict(input_reshaped)\n",
    "\n",
    "if prediction[0] == 0:\n",
    "    print('The cell is Malignant')\n",
    "else:\n",
    "    print('The cell is Benign')"
   ]
  }
 ],
 "metadata": {
  "kaggle": {
   "accelerator": "none",
   "dataSources": [
    {
     "datasetId": 1829286,
     "sourceId": 2984728,
     "sourceType": "datasetVersion"
    }
   ],
   "dockerImageVersionId": 30646,
   "isGpuEnabled": false,
   "isInternetEnabled": false,
   "language": "python",
   "sourceType": "notebook"
  },
  "kernelspec": {
   "display_name": "Python 3",
   "language": "python",
   "name": "python3"
  },
  "language_info": {
   "codemirror_mode": {
    "name": "ipython",
    "version": 3
   },
   "file_extension": ".py",
   "mimetype": "text/x-python",
   "name": "python",
   "nbconvert_exporter": "python",
   "pygments_lexer": "ipython3",
   "version": "3.10.13"
  },
  "papermill": {
   "default_parameters": {},
   "duration": 6.542395,
   "end_time": "2024-02-28T21:01:08.102145",
   "environment_variables": {},
   "exception": null,
   "input_path": "__notebook__.ipynb",
   "output_path": "__notebook__.ipynb",
   "parameters": {},
   "start_time": "2024-02-28T21:01:01.559750",
   "version": "2.5.0"
  }
 },
 "nbformat": 4,
 "nbformat_minor": 5
}
