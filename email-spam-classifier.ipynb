{
 "cells": [
  {
   "cell_type": "code",
   "execution_count": 1,
   "id": "d56bb520",
   "metadata": {
    "_cell_guid": "b1076dfc-b9ad-4769-8c92-a6c4dae69d19",
    "_uuid": "8f2839f25d086af736a60e9eeb907d3b93b6e0e5",
    "execution": {
     "iopub.execute_input": "2024-03-02T21:25:09.176543Z",
     "iopub.status.busy": "2024-03-02T21:25:09.176096Z",
     "iopub.status.idle": "2024-03-02T21:25:11.468389Z",
     "shell.execute_reply": "2024-03-02T21:25:11.467370Z"
    },
    "papermill": {
     "duration": 2.303882,
     "end_time": "2024-03-02T21:25:11.471065",
     "exception": false,
     "start_time": "2024-03-02T21:25:09.167183",
     "status": "completed"
    },
    "tags": []
   },
   "outputs": [],
   "source": [
    "import numpy as np \n",
    "import pandas as pd \n",
    "\n",
    "from sklearn.model_selection import train_test_split\n",
    "from sklearn.linear_model import LogisticRegression\n",
    "from sklearn.metrics import accuracy_score\n",
    "from sklearn.feature_extraction.text import TfidfVectorizer\n",
    "from sklearn.preprocessing import LabelEncoder\n",
    "\n",
    "# import os\n",
    "# for dirname, _, filenames in os.walk('/kaggle/input'):\n",
    "#     for filename in filenames:\n",
    "#         print(os.path.join(dirname, filename))\n",
    "\n",
    "df = pd.read_csv('/kaggle/input/d/kamyarathod/spamham/spamham.csv')"
   ]
  },
  {
   "cell_type": "code",
   "execution_count": 2,
   "id": "37476bda",
   "metadata": {
    "execution": {
     "iopub.execute_input": "2024-03-02T21:25:11.485858Z",
     "iopub.status.busy": "2024-03-02T21:25:11.485453Z",
     "iopub.status.idle": "2024-03-02T21:25:11.499236Z",
     "shell.execute_reply": "2024-03-02T21:25:11.498035Z"
    },
    "papermill": {
     "duration": 0.024364,
     "end_time": "2024-03-02T21:25:11.502077",
     "exception": false,
     "start_time": "2024-03-02T21:25:11.477713",
     "status": "completed"
    },
    "tags": []
   },
   "outputs": [
    {
     "name": "stdout",
     "output_type": "stream",
     "text": [
      "  Category                                            Message\n",
      "0      ham  Go until jurong point, crazy.. Available only ...\n",
      "1      ham                      Ok lar... Joking wif u oni...\n",
      "2     spam  Free entry in 2 a wkly comp to win FA Cup fina...\n",
      "3      ham  U dun say so early hor... U c already then say...\n",
      "4      ham  Nah I don't think he goes to usf, he lives aro...\n"
     ]
    }
   ],
   "source": [
    "print(df.head())"
   ]
  },
  {
   "cell_type": "markdown",
   "id": "3080512d",
   "metadata": {
    "papermill": {
     "duration": 0.006142,
     "end_time": "2024-03-02T21:25:11.514942",
     "exception": false,
     "start_time": "2024-03-02T21:25:11.508800",
     "status": "completed"
    },
    "tags": []
   },
   "source": [
    "#### Checks the empty cells in df and converts them into a whitespace character "
   ]
  },
  {
   "cell_type": "code",
   "execution_count": 3,
   "id": "d67c8e7f",
   "metadata": {
    "execution": {
     "iopub.execute_input": "2024-03-02T21:25:11.529949Z",
     "iopub.status.busy": "2024-03-02T21:25:11.528748Z",
     "iopub.status.idle": "2024-03-02T21:25:11.538163Z",
     "shell.execute_reply": "2024-03-02T21:25:11.537354Z"
    },
    "papermill": {
     "duration": 0.019291,
     "end_time": "2024-03-02T21:25:11.540488",
     "exception": false,
     "start_time": "2024-03-02T21:25:11.521197",
     "status": "completed"
    },
    "tags": []
   },
   "outputs": [],
   "source": [
    "data = df.where(pd.notnull(df), ' ')"
   ]
  },
  {
   "cell_type": "code",
   "execution_count": 4,
   "id": "a1407fe5",
   "metadata": {
    "execution": {
     "iopub.execute_input": "2024-03-02T21:25:11.555312Z",
     "iopub.status.busy": "2024-03-02T21:25:11.554379Z",
     "iopub.status.idle": "2024-03-02T21:25:11.567919Z",
     "shell.execute_reply": "2024-03-02T21:25:11.567128Z"
    },
    "papermill": {
     "duration": 0.023051,
     "end_time": "2024-03-02T21:25:11.569908",
     "exception": false,
     "start_time": "2024-03-02T21:25:11.546857",
     "status": "completed"
    },
    "tags": []
   },
   "outputs": [
    {
     "data": {
      "text/html": [
       "<div>\n",
       "<style scoped>\n",
       "    .dataframe tbody tr th:only-of-type {\n",
       "        vertical-align: middle;\n",
       "    }\n",
       "\n",
       "    .dataframe tbody tr th {\n",
       "        vertical-align: top;\n",
       "    }\n",
       "\n",
       "    .dataframe thead th {\n",
       "        text-align: right;\n",
       "    }\n",
       "</style>\n",
       "<table border=\"1\" class=\"dataframe\">\n",
       "  <thead>\n",
       "    <tr style=\"text-align: right;\">\n",
       "      <th></th>\n",
       "      <th>Category</th>\n",
       "      <th>Message</th>\n",
       "    </tr>\n",
       "  </thead>\n",
       "  <tbody>\n",
       "    <tr>\n",
       "      <th>0</th>\n",
       "      <td>ham</td>\n",
       "      <td>Go until jurong point, crazy.. Available only ...</td>\n",
       "    </tr>\n",
       "    <tr>\n",
       "      <th>1</th>\n",
       "      <td>ham</td>\n",
       "      <td>Ok lar... Joking wif u oni...</td>\n",
       "    </tr>\n",
       "    <tr>\n",
       "      <th>2</th>\n",
       "      <td>spam</td>\n",
       "      <td>Free entry in 2 a wkly comp to win FA Cup fina...</td>\n",
       "    </tr>\n",
       "    <tr>\n",
       "      <th>3</th>\n",
       "      <td>ham</td>\n",
       "      <td>U dun say so early hor... U c already then say...</td>\n",
       "    </tr>\n",
       "    <tr>\n",
       "      <th>4</th>\n",
       "      <td>ham</td>\n",
       "      <td>Nah I don't think he goes to usf, he lives aro...</td>\n",
       "    </tr>\n",
       "    <tr>\n",
       "      <th>5</th>\n",
       "      <td>spam</td>\n",
       "      <td>FreeMsg Hey there darling it's been 3 week's n...</td>\n",
       "    </tr>\n",
       "    <tr>\n",
       "      <th>6</th>\n",
       "      <td>ham</td>\n",
       "      <td>Even my brother is not like to speak with me. ...</td>\n",
       "    </tr>\n",
       "    <tr>\n",
       "      <th>7</th>\n",
       "      <td>ham</td>\n",
       "      <td>As per your request 'Melle Melle (Oru Minnamin...</td>\n",
       "    </tr>\n",
       "    <tr>\n",
       "      <th>8</th>\n",
       "      <td>spam</td>\n",
       "      <td>WINNER!! As a valued network customer you have...</td>\n",
       "    </tr>\n",
       "    <tr>\n",
       "      <th>9</th>\n",
       "      <td>spam</td>\n",
       "      <td>Had your mobile 11 months or more? U R entitle...</td>\n",
       "    </tr>\n",
       "  </tbody>\n",
       "</table>\n",
       "</div>"
      ],
      "text/plain": [
       "  Category                                            Message\n",
       "0      ham  Go until jurong point, crazy.. Available only ...\n",
       "1      ham                      Ok lar... Joking wif u oni...\n",
       "2     spam  Free entry in 2 a wkly comp to win FA Cup fina...\n",
       "3      ham  U dun say so early hor... U c already then say...\n",
       "4      ham  Nah I don't think he goes to usf, he lives aro...\n",
       "5     spam  FreeMsg Hey there darling it's been 3 week's n...\n",
       "6      ham  Even my brother is not like to speak with me. ...\n",
       "7      ham  As per your request 'Melle Melle (Oru Minnamin...\n",
       "8     spam  WINNER!! As a valued network customer you have...\n",
       "9     spam  Had your mobile 11 months or more? U R entitle..."
      ]
     },
     "execution_count": 4,
     "metadata": {},
     "output_type": "execute_result"
    }
   ],
   "source": [
    "data.head(10)"
   ]
  },
  {
   "cell_type": "markdown",
   "id": "77003d71",
   "metadata": {
    "papermill": {
     "duration": 0.006303,
     "end_time": "2024-03-02T21:25:11.582854",
     "exception": false,
     "start_time": "2024-03-02T21:25:11.576551",
     "status": "completed"
    },
    "tags": []
   },
   "source": [
    "#### Encoding the 'Category' column into 0 (Spam) and 1 (Ham):"
   ]
  },
  {
   "cell_type": "code",
   "execution_count": 5,
   "id": "cf5fec4b",
   "metadata": {
    "execution": {
     "iopub.execute_input": "2024-03-02T21:25:11.597942Z",
     "iopub.status.busy": "2024-03-02T21:25:11.597218Z",
     "iopub.status.idle": "2024-03-02T21:25:11.609703Z",
     "shell.execute_reply": "2024-03-02T21:25:11.608667Z"
    },
    "papermill": {
     "duration": 0.022775,
     "end_time": "2024-03-02T21:25:11.612111",
     "exception": false,
     "start_time": "2024-03-02T21:25:11.589336",
     "status": "completed"
    },
    "tags": []
   },
   "outputs": [
    {
     "name": "stdout",
     "output_type": "stream",
     "text": [
      "  Category                                            Message\n",
      "0        1  Go until jurong point, crazy.. Available only ...\n",
      "1        1                      Ok lar... Joking wif u oni...\n",
      "2        0  Free entry in 2 a wkly comp to win FA Cup fina...\n",
      "3        1  U dun say so early hor... U c already then say...\n",
      "4        1  Nah I don't think he goes to usf, he lives aro...\n",
      "5        0  FreeMsg Hey there darling it's been 3 week's n...\n",
      "6        1  Even my brother is not like to speak with me. ...\n",
      "7        1  As per your request 'Melle Melle (Oru Minnamin...\n",
      "8        0  WINNER!! As a valued network customer you have...\n",
      "9        0  Had your mobile 11 months or more? U R entitle...\n"
     ]
    }
   ],
   "source": [
    "data.loc[data['Category'] == 'spam', 'Category',] = 0\n",
    "data.loc[data['Category'] == 'ham', 'Category',] = 1\n",
    "print(data.head(10))"
   ]
  },
  {
   "cell_type": "code",
   "execution_count": 6,
   "id": "0369d4b9",
   "metadata": {
    "execution": {
     "iopub.execute_input": "2024-03-02T21:25:11.627341Z",
     "iopub.status.busy": "2024-03-02T21:25:11.626940Z",
     "iopub.status.idle": "2024-03-02T21:25:11.634397Z",
     "shell.execute_reply": "2024-03-02T21:25:11.633297Z"
    },
    "papermill": {
     "duration": 0.018051,
     "end_time": "2024-03-02T21:25:11.636989",
     "exception": false,
     "start_time": "2024-03-02T21:25:11.618938",
     "status": "completed"
    },
    "tags": []
   },
   "outputs": [
    {
     "name": "stdout",
     "output_type": "stream",
     "text": [
      "0       Go until jurong point, crazy.. Available only ...\n",
      "1                           Ok lar... Joking wif u oni...\n",
      "2       Free entry in 2 a wkly comp to win FA Cup fina...\n",
      "3       U dun say so early hor... U c already then say...\n",
      "4       Nah I don't think he goes to usf, he lives aro...\n",
      "                              ...                        \n",
      "5567    This is the 2nd time we have tried 2 contact u...\n",
      "5568                 Will ü b going to esplanade fr home?\n",
      "5569    Pity, * was in mood for that. So...any other s...\n",
      "5570    The guy did some bitching but I acted like i'd...\n",
      "5571                           Rofl. Its true to its name\n",
      "Name: Message, Length: 5572, dtype: object\n"
     ]
    }
   ],
   "source": [
    "X = data['Message']\n",
    "y = data['Category']\n",
    "print(X)"
   ]
  },
  {
   "cell_type": "markdown",
   "id": "67cf9503",
   "metadata": {
    "papermill": {
     "duration": 0.006904,
     "end_time": "2024-03-02T21:25:11.650709",
     "exception": false,
     "start_time": "2024-03-02T21:25:11.643805",
     "status": "completed"
    },
    "tags": []
   },
   "source": [
    "#### Split and shuffle data into train and test segments"
   ]
  },
  {
   "cell_type": "code",
   "execution_count": 7,
   "id": "03c710b3",
   "metadata": {
    "execution": {
     "iopub.execute_input": "2024-03-02T21:25:11.665968Z",
     "iopub.status.busy": "2024-03-02T21:25:11.665599Z",
     "iopub.status.idle": "2024-03-02T21:25:11.677351Z",
     "shell.execute_reply": "2024-03-02T21:25:11.676447Z"
    },
    "papermill": {
     "duration": 0.022366,
     "end_time": "2024-03-02T21:25:11.679734",
     "exception": false,
     "start_time": "2024-03-02T21:25:11.657368",
     "status": "completed"
    },
    "tags": []
   },
   "outputs": [],
   "source": [
    "X_train, X_test, y_train, y_test = train_test_split(X, y, test_size = 0.2, random_state = 1)"
   ]
  },
  {
   "cell_type": "markdown",
   "id": "3280b34a",
   "metadata": {
    "papermill": {
     "duration": 0.006728,
     "end_time": "2024-03-02T21:25:11.693919",
     "exception": false,
     "start_time": "2024-03-02T21:25:11.687191",
     "status": "completed"
    },
    "tags": []
   },
   "source": [
    "#### TF-IDF (Term Frequency - Inverse Document Frequency) - quantifies the importance of words, weighing them by their no. appeareances\n",
    "* ##### \"stop_words='english'\" results in the program to skip over certain words (\"the\", \"a\", \"is\", etc.) which are not relevant to the message's meaning"
   ]
  },
  {
   "cell_type": "code",
   "execution_count": 8,
   "id": "8cb406c1",
   "metadata": {
    "execution": {
     "iopub.execute_input": "2024-03-02T21:25:11.709365Z",
     "iopub.status.busy": "2024-03-02T21:25:11.708988Z",
     "iopub.status.idle": "2024-03-02T21:25:11.966080Z",
     "shell.execute_reply": "2024-03-02T21:25:11.964971Z"
    },
    "papermill": {
     "duration": 0.268187,
     "end_time": "2024-03-02T21:25:11.968920",
     "exception": false,
     "start_time": "2024-03-02T21:25:11.700733",
     "status": "completed"
    },
    "tags": []
   },
   "outputs": [],
   "source": [
    "feature_extraction = TfidfVectorizer(min_df = 1, stop_words='english')\n",
    "X_train_features = feature_extraction.fit_transform(X_train)\n",
    "X_test_features = feature_extraction.fit_transform(X_test)\n",
    "\n",
    "y_train = y_train.astype('int')\n",
    "y_test = y_test.astype('int')"
   ]
  },
  {
   "cell_type": "code",
   "execution_count": 9,
   "id": "055018a6",
   "metadata": {
    "execution": {
     "iopub.execute_input": "2024-03-02T21:25:11.984611Z",
     "iopub.status.busy": "2024-03-02T21:25:11.984171Z",
     "iopub.status.idle": "2024-03-02T21:25:11.991213Z",
     "shell.execute_reply": "2024-03-02T21:25:11.989555Z"
    },
    "papermill": {
     "duration": 0.017692,
     "end_time": "2024-03-02T21:25:11.993585",
     "exception": false,
     "start_time": "2024-03-02T21:25:11.975893",
     "status": "completed"
    },
    "tags": []
   },
   "outputs": [
    {
     "name": "stdout",
     "output_type": "stream",
     "text": [
      "  (0, 4346)\t0.3238008504874723\n",
      "  (0, 2353)\t0.2545072203817634\n",
      "  (0, 6695)\t0.3616065178053154\n",
      "  (0, 5895)\t0.415102954745324\n",
      "  (0, 2719)\t0.299459437576315\n",
      "  (0, 3822)\t0.37729728742748087\n",
      "  (0, 3789)\t0.4750235197588447\n",
      "  (0, 3321)\t0.2638802854739516\n",
      "  (1, 4343)\t0.6555659308129219\n",
      "  (1, 1858)\t0.5163195438969705\n",
      "  (1, 3365)\t0.5510421389942982\n",
      "  (2, 4267)\t0.531599749449541\n",
      "  (2, 6215)\t0.43979370278404856\n",
      "  (2, 6597)\t0.40097414833733686\n",
      "  (2, 5672)\t0.32606636481997364\n",
      "  (2, 3025)\t0.3502912545366897\n",
      "  (2, 3185)\t0.3663054742561573\n",
      "  (3, 4447)\t0.18080236341909536\n",
      "  (3, 3084)\t0.14346439189216004\n",
      "  (3, 2877)\t0.30030357190007717\n",
      "  (3, 5515)\t0.16439483489485024\n",
      "  (3, 6922)\t0.13381964389308706\n",
      "  (3, 7080)\t0.19700844583868773\n",
      "  (3, 5535)\t0.30030357190007717\n",
      "  (3, 7398)\t0.19877707762085306\n",
      "  :\t:\n",
      "  (4454, 397)\t0.31848634658760416\n",
      "  (4454, 4027)\t0.2561192223695296\n",
      "  (4454, 6409)\t0.2511086901671169\n",
      "  (4454, 7382)\t0.23350338191116915\n",
      "  (4454, 4578)\t0.28626353932821713\n",
      "  (4455, 6600)\t0.3164025961524856\n",
      "  (4455, 2805)\t0.3016723549044074\n",
      "  (4455, 5425)\t0.2831144456705363\n",
      "  (4455, 4948)\t0.291221082414565\n",
      "  (4455, 365)\t0.2708906633533937\n",
      "  (4455, 860)\t0.2544703850602943\n",
      "  (4455, 5684)\t0.2831144456705363\n",
      "  (4455, 3721)\t0.22464478145066644\n",
      "  (4455, 4284)\t0.18993177207181944\n",
      "  (4455, 4473)\t0.18061588089155375\n",
      "  (4455, 313)\t0.20494254942428108\n",
      "  (4455, 5821)\t0.2292888713223737\n",
      "  (4455, 260)\t0.23097890836739493\n",
      "  (4455, 2124)\t0.2386556082002209\n",
      "  (4455, 6681)\t0.1644718719525843\n",
      "  (4455, 6546)\t0.1617993994273865\n",
      "  (4455, 3759)\t0.13547655899979386\n",
      "  (4455, 5515)\t0.17320790500652877\n",
      "  (4456, 6025)\t0.6984641956538138\n",
      "  (4456, 1703)\t0.7156450009534552\n"
     ]
    }
   ],
   "source": [
    "print(X_train_features)"
   ]
  },
  {
   "cell_type": "code",
   "execution_count": 10,
   "id": "7d193255",
   "metadata": {
    "execution": {
     "iopub.execute_input": "2024-03-02T21:25:12.009217Z",
     "iopub.status.busy": "2024-03-02T21:25:12.008856Z",
     "iopub.status.idle": "2024-03-02T21:25:12.013552Z",
     "shell.execute_reply": "2024-03-02T21:25:12.012343Z"
    },
    "papermill": {
     "duration": 0.015242,
     "end_time": "2024-03-02T21:25:12.015934",
     "exception": false,
     "start_time": "2024-03-02T21:25:12.000692",
     "status": "completed"
    },
    "tags": []
   },
   "outputs": [],
   "source": [
    "model = LogisticRegression()"
   ]
  },
  {
   "cell_type": "code",
   "execution_count": 11,
   "id": "ca6640ff",
   "metadata": {
    "execution": {
     "iopub.execute_input": "2024-03-02T21:25:12.031709Z",
     "iopub.status.busy": "2024-03-02T21:25:12.031304Z",
     "iopub.status.idle": "2024-03-02T21:25:12.121482Z",
     "shell.execute_reply": "2024-03-02T21:25:12.120588Z"
    },
    "papermill": {
     "duration": 0.100952,
     "end_time": "2024-03-02T21:25:12.123918",
     "exception": false,
     "start_time": "2024-03-02T21:25:12.022966",
     "status": "completed"
    },
    "tags": []
   },
   "outputs": [
    {
     "name": "stdout",
     "output_type": "stream",
     "text": [
      "Accuracy on training data:  96.8\n"
     ]
    }
   ],
   "source": [
    "model.fit(X_train_features, y_train)\n",
    "\n",
    "train_prediction = model.predict(X_train_features)\n",
    "accuracy_train = accuracy_score(y_train, train_prediction)\n",
    "\n",
    "print('Accuracy on training data: ', int(accuracy_train * 1000) / 10)"
   ]
  },
  {
   "cell_type": "code",
   "execution_count": 12,
   "id": "ff861c71",
   "metadata": {
    "execution": {
     "iopub.execute_input": "2024-03-02T21:25:12.141114Z",
     "iopub.status.busy": "2024-03-02T21:25:12.140405Z",
     "iopub.status.idle": "2024-03-02T21:25:12.171429Z",
     "shell.execute_reply": "2024-03-02T21:25:12.170427Z"
    },
    "papermill": {
     "duration": 0.042928,
     "end_time": "2024-03-02T21:25:12.173894",
     "exception": false,
     "start_time": "2024-03-02T21:25:12.130966",
     "status": "completed"
    },
    "tags": []
   },
   "outputs": [
    {
     "name": "stdout",
     "output_type": "stream",
     "text": [
      "Accuracy on test data:  92.6\n"
     ]
    }
   ],
   "source": [
    "model.fit(X_test_features, y_test)\n",
    "\n",
    "test_prediction = model.predict(X_test_features)\n",
    "accuracy_test = accuracy_score(y_test, test_prediction)\n",
    "\n",
    "print('Accuracy on test data: ', int(accuracy_test * 1000) / 10)"
   ]
  },
  {
   "cell_type": "markdown",
   "id": "f448b24a",
   "metadata": {
    "papermill": {
     "duration": 0.007112,
     "end_time": "2024-03-02T21:25:12.188280",
     "exception": false,
     "start_time": "2024-03-02T21:25:12.181168",
     "status": "completed"
    },
    "tags": []
   },
   "source": [
    "#### Prediction system for a given message"
   ]
  },
  {
   "cell_type": "code",
   "execution_count": 13,
   "id": "6eff0063",
   "metadata": {
    "execution": {
     "iopub.execute_input": "2024-03-02T21:25:12.204564Z",
     "iopub.status.busy": "2024-03-02T21:25:12.203914Z",
     "iopub.status.idle": "2024-03-02T21:25:12.212574Z",
     "shell.execute_reply": "2024-03-02T21:25:12.211342Z"
    },
    "papermill": {
     "duration": 0.01923,
     "end_time": "2024-03-02T21:25:12.214653",
     "exception": false,
     "start_time": "2024-03-02T21:25:12.195423",
     "status": "completed"
    },
    "tags": []
   },
   "outputs": [
    {
     "name": "stdout",
     "output_type": "stream",
     "text": [
      "SPAM\n"
     ]
    }
   ],
   "source": [
    "message = [\"YOU WON 1000$ claim your prize here\"]\n",
    "message_features = feature_extraction.transform(message)\n",
    "\n",
    "prediction = model.predict(message_features)\n",
    "\n",
    "if (prediction[0] == 0):\n",
    "    print(\"SPAM\")\n",
    "else:\n",
    "    print(\"Not spam\")"
   ]
  }
 ],
 "metadata": {
  "kaggle": {
   "accelerator": "none",
   "dataSources": [
    {
     "datasetId": 109196,
     "sourceId": 260807,
     "sourceType": "datasetVersion"
    },
    {
     "datasetId": 115342,
     "sourceId": 275896,
     "sourceType": "datasetVersion"
    },
    {
     "datasetId": 969149,
     "sourceId": 1639266,
     "sourceType": "datasetVersion"
    },
    {
     "datasetId": 1005212,
     "sourceId": 1696119,
     "sourceType": "datasetVersion"
    }
   ],
   "dockerImageVersionId": 30664,
   "isGpuEnabled": false,
   "isInternetEnabled": false,
   "language": "python",
   "sourceType": "notebook"
  },
  "kernelspec": {
   "display_name": "Python 3",
   "language": "python",
   "name": "python3"
  },
  "language_info": {
   "codemirror_mode": {
    "name": "ipython",
    "version": 3
   },
   "file_extension": ".py",
   "mimetype": "text/x-python",
   "name": "python",
   "nbconvert_exporter": "python",
   "pygments_lexer": "ipython3",
   "version": "3.10.13"
  },
  "papermill": {
   "default_parameters": {},
   "duration": 6.691399,
   "end_time": "2024-03-02T21:25:12.842649",
   "environment_variables": {},
   "exception": null,
   "input_path": "__notebook__.ipynb",
   "output_path": "__notebook__.ipynb",
   "parameters": {},
   "start_time": "2024-03-02T21:25:06.151250",
   "version": "2.5.0"
  }
 },
 "nbformat": 4,
 "nbformat_minor": 5
}
