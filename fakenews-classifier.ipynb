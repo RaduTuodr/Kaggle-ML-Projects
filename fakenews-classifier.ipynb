{
 "cells": [
  {
   "cell_type": "code",
   "execution_count": 1,
   "id": "62e8d499",
   "metadata": {
    "_cell_guid": "b1076dfc-b9ad-4769-8c92-a6c4dae69d19",
    "_uuid": "8f2839f25d086af736a60e9eeb907d3b93b6e0e5",
    "execution": {
     "iopub.execute_input": "2024-03-16T15:19:21.316084Z",
     "iopub.status.busy": "2024-03-16T15:19:21.315736Z",
     "iopub.status.idle": "2024-03-16T15:19:23.958565Z",
     "shell.execute_reply": "2024-03-16T15:19:23.957517Z"
    },
    "papermill": {
     "duration": 2.650743,
     "end_time": "2024-03-16T15:19:23.960656",
     "exception": false,
     "start_time": "2024-03-16T15:19:21.309913",
     "status": "completed"
    },
    "tags": []
   },
   "outputs": [
    {
     "name": "stdout",
     "output_type": "stream",
     "text": [
      "/kaggle/input/fake-news-classification/WELFake_Dataset.csv\n"
     ]
    }
   ],
   "source": [
    "import numpy as np\n",
    "import pandas as pd\n",
    "\n",
    "from sklearn.model_selection         import train_test_split\n",
    "from sklearn.feature_extraction.text import TfidfVectorizer\n",
    "from sklearn.linear_model            import LogisticRegression\n",
    "from sklearn.metrics                 import accuracy_score\n",
    "\n",
    "import os\n",
    "for dirname, _, filenames in os.walk('/kaggle/input'):\n",
    "    for filename in filenames:\n",
    "        print(os.path.join(dirname, filename))\n",
    "        \n",
    "RAND_SEED = 1502"
   ]
  },
  {
   "cell_type": "code",
   "execution_count": 2,
   "id": "9a06dd27",
   "metadata": {
    "execution": {
     "iopub.execute_input": "2024-03-16T15:19:23.970920Z",
     "iopub.status.busy": "2024-03-16T15:19:23.970378Z",
     "iopub.status.idle": "2024-03-16T15:19:29.766951Z",
     "shell.execute_reply": "2024-03-16T15:19:29.765486Z"
    },
    "papermill": {
     "duration": 5.80459,
     "end_time": "2024-03-16T15:19:29.769426",
     "exception": false,
     "start_time": "2024-03-16T15:19:23.964836",
     "status": "completed"
    },
    "tags": []
   },
   "outputs": [],
   "source": [
    "df = pd.read_csv('/kaggle/input/fake-news-classification/WELFake_Dataset.csv')"
   ]
  },
  {
   "cell_type": "markdown",
   "id": "344d4483",
   "metadata": {
    "papermill": {
     "duration": 0.003336,
     "end_time": "2024-03-16T15:19:29.776577",
     "exception": false,
     "start_time": "2024-03-16T15:19:29.773241",
     "status": "completed"
    },
    "tags": []
   },
   "source": [
    "### Label: 0 (fake) and 1 (real)"
   ]
  },
  {
   "cell_type": "code",
   "execution_count": 3,
   "id": "3524df95",
   "metadata": {
    "execution": {
     "iopub.execute_input": "2024-03-16T15:19:29.785734Z",
     "iopub.status.busy": "2024-03-16T15:19:29.785284Z",
     "iopub.status.idle": "2024-03-16T15:19:29.805066Z",
     "shell.execute_reply": "2024-03-16T15:19:29.803674Z"
    },
    "papermill": {
     "duration": 0.027292,
     "end_time": "2024-03-16T15:19:29.807512",
     "exception": false,
     "start_time": "2024-03-16T15:19:29.780220",
     "status": "completed"
    },
    "tags": []
   },
   "outputs": [
    {
     "data": {
      "text/html": [
       "<div>\n",
       "<style scoped>\n",
       "    .dataframe tbody tr th:only-of-type {\n",
       "        vertical-align: middle;\n",
       "    }\n",
       "\n",
       "    .dataframe tbody tr th {\n",
       "        vertical-align: top;\n",
       "    }\n",
       "\n",
       "    .dataframe thead th {\n",
       "        text-align: right;\n",
       "    }\n",
       "</style>\n",
       "<table border=\"1\" class=\"dataframe\">\n",
       "  <thead>\n",
       "    <tr style=\"text-align: right;\">\n",
       "      <th></th>\n",
       "      <th>Unnamed: 0</th>\n",
       "      <th>title</th>\n",
       "      <th>text</th>\n",
       "      <th>label</th>\n",
       "    </tr>\n",
       "  </thead>\n",
       "  <tbody>\n",
       "    <tr>\n",
       "      <th>0</th>\n",
       "      <td>0</td>\n",
       "      <td>LAW ENFORCEMENT ON HIGH ALERT Following Threat...</td>\n",
       "      <td>No comment is expected from Barack Obama Membe...</td>\n",
       "      <td>1</td>\n",
       "    </tr>\n",
       "    <tr>\n",
       "      <th>1</th>\n",
       "      <td>1</td>\n",
       "      <td>NaN</td>\n",
       "      <td>Did they post their votes for Hillary already?</td>\n",
       "      <td>1</td>\n",
       "    </tr>\n",
       "    <tr>\n",
       "      <th>2</th>\n",
       "      <td>2</td>\n",
       "      <td>UNBELIEVABLE! OBAMA’S ATTORNEY GENERAL SAYS MO...</td>\n",
       "      <td>Now, most of the demonstrators gathered last ...</td>\n",
       "      <td>1</td>\n",
       "    </tr>\n",
       "    <tr>\n",
       "      <th>3</th>\n",
       "      <td>3</td>\n",
       "      <td>Bobby Jindal, raised Hindu, uses story of Chri...</td>\n",
       "      <td>A dozen politically active pastors came here f...</td>\n",
       "      <td>0</td>\n",
       "    </tr>\n",
       "    <tr>\n",
       "      <th>4</th>\n",
       "      <td>4</td>\n",
       "      <td>SATAN 2: Russia unvelis an image of its terrif...</td>\n",
       "      <td>The RS-28 Sarmat missile, dubbed Satan 2, will...</td>\n",
       "      <td>1</td>\n",
       "    </tr>\n",
       "  </tbody>\n",
       "</table>\n",
       "</div>"
      ],
      "text/plain": [
       "   Unnamed: 0                                              title  \\\n",
       "0           0  LAW ENFORCEMENT ON HIGH ALERT Following Threat...   \n",
       "1           1                                                NaN   \n",
       "2           2  UNBELIEVABLE! OBAMA’S ATTORNEY GENERAL SAYS MO...   \n",
       "3           3  Bobby Jindal, raised Hindu, uses story of Chri...   \n",
       "4           4  SATAN 2: Russia unvelis an image of its terrif...   \n",
       "\n",
       "                                                text  label  \n",
       "0  No comment is expected from Barack Obama Membe...      1  \n",
       "1     Did they post their votes for Hillary already?      1  \n",
       "2   Now, most of the demonstrators gathered last ...      1  \n",
       "3  A dozen politically active pastors came here f...      0  \n",
       "4  The RS-28 Sarmat missile, dubbed Satan 2, will...      1  "
      ]
     },
     "execution_count": 3,
     "metadata": {},
     "output_type": "execute_result"
    }
   ],
   "source": [
    "df.head()"
   ]
  },
  {
   "cell_type": "markdown",
   "id": "504161c4",
   "metadata": {
    "papermill": {
     "duration": 0.003502,
     "end_time": "2024-03-16T15:19:29.815105",
     "exception": false,
     "start_time": "2024-03-16T15:19:29.811603",
     "status": "completed"
    },
    "tags": []
   },
   "source": [
    "### There can be check that rows with missing information, lack 'title' column text\n",
    "#### Therefore, we can clean up data like this:"
   ]
  },
  {
   "cell_type": "code",
   "execution_count": 4,
   "id": "7e9de05f",
   "metadata": {
    "execution": {
     "iopub.execute_input": "2024-03-16T15:19:29.825478Z",
     "iopub.status.busy": "2024-03-16T15:19:29.824107Z",
     "iopub.status.idle": "2024-03-16T15:19:29.863785Z",
     "shell.execute_reply": "2024-03-16T15:19:29.862615Z"
    },
    "papermill": {
     "duration": 0.047149,
     "end_time": "2024-03-16T15:19:29.866095",
     "exception": false,
     "start_time": "2024-03-16T15:19:29.818946",
     "status": "completed"
    },
    "tags": []
   },
   "outputs": [],
   "source": [
    "data = df.loc[df.notnull().all(axis=1)]"
   ]
  },
  {
   "cell_type": "code",
   "execution_count": 5,
   "id": "511a6295",
   "metadata": {
    "execution": {
     "iopub.execute_input": "2024-03-16T15:19:29.875812Z",
     "iopub.status.busy": "2024-03-16T15:19:29.875187Z",
     "iopub.status.idle": "2024-03-16T15:19:30.125190Z",
     "shell.execute_reply": "2024-03-16T15:19:30.124262Z"
    },
    "papermill": {
     "duration": 0.257286,
     "end_time": "2024-03-16T15:19:30.127357",
     "exception": false,
     "start_time": "2024-03-16T15:19:29.870071",
     "status": "completed"
    },
    "tags": []
   },
   "outputs": [
    {
     "name": "stderr",
     "output_type": "stream",
     "text": [
      "/tmp/ipykernel_18/1994620229.py:1: SettingWithCopyWarning: \n",
      "A value is trying to be set on a copy of a slice from a DataFrame.\n",
      "Try using .loc[row_indexer,col_indexer] = value instead\n",
      "\n",
      "See the caveats in the documentation: https://pandas.pydata.org/pandas-docs/stable/user_guide/indexing.html#returning-a-view-versus-a-copy\n",
      "  data['text'] = data['title'] + ' ' + data['text']\n",
      "/tmp/ipykernel_18/1994620229.py:2: SettingWithCopyWarning: \n",
      "A value is trying to be set on a copy of a slice from a DataFrame\n",
      "\n",
      "See the caveats in the documentation: https://pandas.pydata.org/pandas-docs/stable/user_guide/indexing.html#returning-a-view-versus-a-copy\n",
      "  data.dropna(subset=['text', 'title'], inplace=True)\n"
     ]
    }
   ],
   "source": [
    "data['text'] = data['title'] + ' ' + data['text']\n",
    "data.dropna(subset=['text', 'title'], inplace=True)"
   ]
  },
  {
   "cell_type": "code",
   "execution_count": 6,
   "id": "c88c448c",
   "metadata": {
    "execution": {
     "iopub.execute_input": "2024-03-16T15:19:30.137081Z",
     "iopub.status.busy": "2024-03-16T15:19:30.136734Z",
     "iopub.status.idle": "2024-03-16T15:19:30.142680Z",
     "shell.execute_reply": "2024-03-16T15:19:30.141278Z"
    },
    "papermill": {
     "duration": 0.013827,
     "end_time": "2024-03-16T15:19:30.145254",
     "exception": false,
     "start_time": "2024-03-16T15:19:30.131427",
     "status": "completed"
    },
    "tags": []
   },
   "outputs": [],
   "source": [
    "X = data['text']\n",
    "y = data['label']"
   ]
  },
  {
   "cell_type": "code",
   "execution_count": 7,
   "id": "3f52746f",
   "metadata": {
    "execution": {
     "iopub.execute_input": "2024-03-16T15:19:30.155144Z",
     "iopub.status.busy": "2024-03-16T15:19:30.154743Z",
     "iopub.status.idle": "2024-03-16T15:19:30.174134Z",
     "shell.execute_reply": "2024-03-16T15:19:30.172750Z"
    },
    "papermill": {
     "duration": 0.027319,
     "end_time": "2024-03-16T15:19:30.176767",
     "exception": false,
     "start_time": "2024-03-16T15:19:30.149448",
     "status": "completed"
    },
    "tags": []
   },
   "outputs": [],
   "source": [
    "X_train, X_test, y_train, y_test = train_test_split(X, y, \n",
    "                                                    test_size=0.2, \n",
    "                                                    random_state = RAND_SEED)"
   ]
  },
  {
   "cell_type": "code",
   "execution_count": 8,
   "id": "28d18874",
   "metadata": {
    "execution": {
     "iopub.execute_input": "2024-03-16T15:19:30.186658Z",
     "iopub.status.busy": "2024-03-16T15:19:30.186252Z",
     "iopub.status.idle": "2024-03-16T15:19:59.984738Z",
     "shell.execute_reply": "2024-03-16T15:19:59.983210Z"
    },
    "papermill": {
     "duration": 29.806224,
     "end_time": "2024-03-16T15:19:59.987161",
     "exception": false,
     "start_time": "2024-03-16T15:19:30.180937",
     "status": "completed"
    },
    "tags": []
   },
   "outputs": [],
   "source": [
    "feature_extraction = TfidfVectorizer(min_df=1, stop_words='english')\n",
    "\n",
    "X_train_features = feature_extraction.fit_transform(X_train)\n",
    "X_test_features  = feature_extraction.fit_transform(X_test)\n",
    "\n",
    "y_train = y_train.astype('int')\n",
    "y_test  =  y_test.astype('int')"
   ]
  },
  {
   "cell_type": "code",
   "execution_count": 9,
   "id": "84795558",
   "metadata": {
    "execution": {
     "iopub.execute_input": "2024-03-16T15:19:59.997325Z",
     "iopub.status.busy": "2024-03-16T15:19:59.996904Z",
     "iopub.status.idle": "2024-03-16T15:20:00.002968Z",
     "shell.execute_reply": "2024-03-16T15:20:00.001020Z"
    },
    "papermill": {
     "duration": 0.014305,
     "end_time": "2024-03-16T15:20:00.005928",
     "exception": false,
     "start_time": "2024-03-16T15:19:59.991623",
     "status": "completed"
    },
    "tags": []
   },
   "outputs": [],
   "source": [
    "model = LogisticRegression()"
   ]
  },
  {
   "cell_type": "code",
   "execution_count": 10,
   "id": "74524398",
   "metadata": {
    "execution": {
     "iopub.execute_input": "2024-03-16T15:20:00.015680Z",
     "iopub.status.busy": "2024-03-16T15:20:00.015258Z",
     "iopub.status.idle": "2024-03-16T15:20:14.730565Z",
     "shell.execute_reply": "2024-03-16T15:20:14.726989Z"
    },
    "papermill": {
     "duration": 14.723938,
     "end_time": "2024-03-16T15:20:14.733909",
     "exception": false,
     "start_time": "2024-03-16T15:20:00.009971",
     "status": "completed"
    },
    "tags": []
   },
   "outputs": [
    {
     "name": "stdout",
     "output_type": "stream",
     "text": [
      "Accuracy score on train data:  96.3\n"
     ]
    }
   ],
   "source": [
    "model.fit(X_train_features, y_train)\n",
    "\n",
    "train_prediction = model.predict(X_train_features)\n",
    "accuracy_train = accuracy_score(y_train, train_prediction)\n",
    "\n",
    "print('Accuracy score on train data: ', int(accuracy_train * 1000) / 10)"
   ]
  },
  {
   "cell_type": "code",
   "execution_count": 11,
   "id": "33f47416",
   "metadata": {
    "execution": {
     "iopub.execute_input": "2024-03-16T15:20:14.747489Z",
     "iopub.status.busy": "2024-03-16T15:20:14.746424Z",
     "iopub.status.idle": "2024-03-16T15:20:16.987083Z",
     "shell.execute_reply": "2024-03-16T15:20:16.986230Z"
    },
    "papermill": {
     "duration": 2.250173,
     "end_time": "2024-03-16T15:20:16.989943",
     "exception": false,
     "start_time": "2024-03-16T15:20:14.739770",
     "status": "completed"
    },
    "tags": []
   },
   "outputs": [
    {
     "name": "stdout",
     "output_type": "stream",
     "text": [
      "Accuracy score on test data:  95.4\n"
     ]
    }
   ],
   "source": [
    "model.fit(X_test_features, y_test)\n",
    "\n",
    "test_prediction =  model.predict(X_test_features)\n",
    "accuracy_test   = accuracy_score(y_test, test_prediction)\n",
    "\n",
    "print('Accuracy score on test data: ', int(accuracy_test * 1000) / 10)"
   ]
  },
  {
   "cell_type": "code",
   "execution_count": 12,
   "id": "a265eb36",
   "metadata": {
    "execution": {
     "iopub.execute_input": "2024-03-16T15:20:17.003585Z",
     "iopub.status.busy": "2024-03-16T15:20:17.002976Z",
     "iopub.status.idle": "2024-03-16T15:20:17.018667Z",
     "shell.execute_reply": "2024-03-16T15:20:17.017563Z"
    },
    "papermill": {
     "duration": 0.02567,
     "end_time": "2024-03-16T15:20:17.021486",
     "exception": false,
     "start_time": "2024-03-16T15:20:16.995816",
     "status": "completed"
    },
    "tags": []
   },
   "outputs": [
    {
     "name": "stdout",
     "output_type": "stream",
     "text": [
      "SPAM\n"
     ]
    }
   ],
   "source": [
    "message = [\"WASHINGTON — The Supreme Court rejected on Monday an appeal from Texas officials seeking to restore\"]\n",
    "message_features = feature_extraction.transform(message)\n",
    "prediction = model.predict(message_features)\n",
    "\n",
    "if prediction[0] == 0:\n",
    "    print(\"SPAM\")\n",
    "else:\n",
    "    print(\"AUTHENTIC\")"
   ]
  }
 ],
 "metadata": {
  "kaggle": {
   "accelerator": "none",
   "dataSources": [
    {
     "datasetId": 2093157,
     "sourceId": 6641062,
     "sourceType": "datasetVersion"
    }
   ],
   "dockerImageVersionId": 30664,
   "isGpuEnabled": false,
   "isInternetEnabled": false,
   "language": "python",
   "sourceType": "notebook"
  },
  "kernelspec": {
   "display_name": "Python 3",
   "language": "python",
   "name": "python3"
  },
  "language_info": {
   "codemirror_mode": {
    "name": "ipython",
    "version": 3
   },
   "file_extension": ".py",
   "mimetype": "text/x-python",
   "name": "python",
   "nbconvert_exporter": "python",
   "pygments_lexer": "ipython3",
   "version": "3.10.13"
  },
  "papermill": {
   "default_parameters": {},
   "duration": 59.655464,
   "end_time": "2024-03-16T15:20:17.759169",
   "environment_variables": {},
   "exception": null,
   "input_path": "__notebook__.ipynb",
   "output_path": "__notebook__.ipynb",
   "parameters": {},
   "start_time": "2024-03-16T15:19:18.103705",
   "version": "2.5.0"
  }
 },
 "nbformat": 4,
 "nbformat_minor": 5
}
