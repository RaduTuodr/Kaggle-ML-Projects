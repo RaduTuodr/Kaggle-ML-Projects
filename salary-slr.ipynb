{
 "cells": [
  {
   "cell_type": "code",
   "execution_count": 1,
   "id": "89ae082d",
   "metadata": {
    "_cell_guid": "b1076dfc-b9ad-4769-8c92-a6c4dae69d19",
    "_uuid": "8f2839f25d086af736a60e9eeb907d3b93b6e0e5",
    "execution": {
     "iopub.execute_input": "2024-02-27T13:36:16.727015Z",
     "iopub.status.busy": "2024-02-27T13:36:16.726050Z",
     "iopub.status.idle": "2024-02-27T13:36:17.807307Z",
     "shell.execute_reply": "2024-02-27T13:36:17.805954Z"
    },
    "papermill": {
     "duration": 1.094285,
     "end_time": "2024-02-27T13:36:17.811657",
     "exception": false,
     "start_time": "2024-02-27T13:36:16.717372",
     "status": "completed"
    },
    "tags": []
   },
   "outputs": [
    {
     "name": "stdout",
     "output_type": "stream",
     "text": [
      "/kaggle/input/salary/Salary.csv\n"
     ]
    }
   ],
   "source": [
    "import numpy as np \n",
    "import pandas as pd \n",
    "\n",
    "import os\n",
    "for dirname, _, filenames in os.walk('/kaggle/input'):\n",
    "    for filename in filenames:\n",
    "        print(os.path.join(dirname, filename))\n",
    "\n",
    "df = pd.read_csv('/kaggle/input/salary/Salary.csv')"
   ]
  },
  {
   "cell_type": "code",
   "execution_count": 2,
   "id": "14f8c8cb",
   "metadata": {
    "execution": {
     "iopub.execute_input": "2024-02-27T13:36:17.821779Z",
     "iopub.status.busy": "2024-02-27T13:36:17.821293Z",
     "iopub.status.idle": "2024-02-27T13:36:19.389792Z",
     "shell.execute_reply": "2024-02-27T13:36:19.388369Z"
    },
    "papermill": {
     "duration": 1.577168,
     "end_time": "2024-02-27T13:36:19.393128",
     "exception": false,
     "start_time": "2024-02-27T13:36:17.815960",
     "status": "completed"
    },
    "tags": []
   },
   "outputs": [],
   "source": [
    "# split data\n",
    "X = df['YearsExperience']\n",
    "y = df['Salary']\n",
    "\n",
    "# train test split\n",
    "from sklearn.model_selection import train_test_split\n",
    "X_train, X_test, y_train, y_test = train_test_split(X, y, test_size=0.4, random_state=1)"
   ]
  },
  {
   "cell_type": "code",
   "execution_count": 3,
   "id": "5e49981b",
   "metadata": {
    "execution": {
     "iopub.execute_input": "2024-02-27T13:36:19.402775Z",
     "iopub.status.busy": "2024-02-27T13:36:19.402008Z",
     "iopub.status.idle": "2024-02-27T13:36:19.408099Z",
     "shell.execute_reply": "2024-02-27T13:36:19.407081Z"
    },
    "papermill": {
     "duration": 0.014108,
     "end_time": "2024-02-27T13:36:19.410892",
     "exception": false,
     "start_time": "2024-02-27T13:36:19.396784",
     "status": "completed"
    },
    "tags": []
   },
   "outputs": [],
   "source": [
    "# make X and y np-arrays\n",
    "X_train = np.array(X_train).reshape(-1, 1)\n",
    "X_test= np.array(X_test).reshape(-1, 1)"
   ]
  },
  {
   "cell_type": "code",
   "execution_count": 4,
   "id": "0e462cee",
   "metadata": {
    "execution": {
     "iopub.execute_input": "2024-02-27T13:36:19.420713Z",
     "iopub.status.busy": "2024-02-27T13:36:19.420042Z",
     "iopub.status.idle": "2024-02-27T13:36:19.561445Z",
     "shell.execute_reply": "2024-02-27T13:36:19.559831Z"
    },
    "papermill": {
     "duration": 0.150107,
     "end_time": "2024-02-27T13:36:19.564556",
     "exception": false,
     "start_time": "2024-02-27T13:36:19.414449",
     "status": "completed"
    },
    "tags": []
   },
   "outputs": [
    {
     "data": {
      "text/html": [
       "<style>#sk-container-id-1 {color: black;background-color: white;}#sk-container-id-1 pre{padding: 0;}#sk-container-id-1 div.sk-toggleable {background-color: white;}#sk-container-id-1 label.sk-toggleable__label {cursor: pointer;display: block;width: 100%;margin-bottom: 0;padding: 0.3em;box-sizing: border-box;text-align: center;}#sk-container-id-1 label.sk-toggleable__label-arrow:before {content: \"▸\";float: left;margin-right: 0.25em;color: #696969;}#sk-container-id-1 label.sk-toggleable__label-arrow:hover:before {color: black;}#sk-container-id-1 div.sk-estimator:hover label.sk-toggleable__label-arrow:before {color: black;}#sk-container-id-1 div.sk-toggleable__content {max-height: 0;max-width: 0;overflow: hidden;text-align: left;background-color: #f0f8ff;}#sk-container-id-1 div.sk-toggleable__content pre {margin: 0.2em;color: black;border-radius: 0.25em;background-color: #f0f8ff;}#sk-container-id-1 input.sk-toggleable__control:checked~div.sk-toggleable__content {max-height: 200px;max-width: 100%;overflow: auto;}#sk-container-id-1 input.sk-toggleable__control:checked~label.sk-toggleable__label-arrow:before {content: \"▾\";}#sk-container-id-1 div.sk-estimator input.sk-toggleable__control:checked~label.sk-toggleable__label {background-color: #d4ebff;}#sk-container-id-1 div.sk-label input.sk-toggleable__control:checked~label.sk-toggleable__label {background-color: #d4ebff;}#sk-container-id-1 input.sk-hidden--visually {border: 0;clip: rect(1px 1px 1px 1px);clip: rect(1px, 1px, 1px, 1px);height: 1px;margin: -1px;overflow: hidden;padding: 0;position: absolute;width: 1px;}#sk-container-id-1 div.sk-estimator {font-family: monospace;background-color: #f0f8ff;border: 1px dotted black;border-radius: 0.25em;box-sizing: border-box;margin-bottom: 0.5em;}#sk-container-id-1 div.sk-estimator:hover {background-color: #d4ebff;}#sk-container-id-1 div.sk-parallel-item::after {content: \"\";width: 100%;border-bottom: 1px solid gray;flex-grow: 1;}#sk-container-id-1 div.sk-label:hover label.sk-toggleable__label {background-color: #d4ebff;}#sk-container-id-1 div.sk-serial::before {content: \"\";position: absolute;border-left: 1px solid gray;box-sizing: border-box;top: 0;bottom: 0;left: 50%;z-index: 0;}#sk-container-id-1 div.sk-serial {display: flex;flex-direction: column;align-items: center;background-color: white;padding-right: 0.2em;padding-left: 0.2em;position: relative;}#sk-container-id-1 div.sk-item {position: relative;z-index: 1;}#sk-container-id-1 div.sk-parallel {display: flex;align-items: stretch;justify-content: center;background-color: white;position: relative;}#sk-container-id-1 div.sk-item::before, #sk-container-id-1 div.sk-parallel-item::before {content: \"\";position: absolute;border-left: 1px solid gray;box-sizing: border-box;top: 0;bottom: 0;left: 50%;z-index: -1;}#sk-container-id-1 div.sk-parallel-item {display: flex;flex-direction: column;z-index: 1;position: relative;background-color: white;}#sk-container-id-1 div.sk-parallel-item:first-child::after {align-self: flex-end;width: 50%;}#sk-container-id-1 div.sk-parallel-item:last-child::after {align-self: flex-start;width: 50%;}#sk-container-id-1 div.sk-parallel-item:only-child::after {width: 0;}#sk-container-id-1 div.sk-dashed-wrapped {border: 1px dashed gray;margin: 0 0.4em 0.5em 0.4em;box-sizing: border-box;padding-bottom: 0.4em;background-color: white;}#sk-container-id-1 div.sk-label label {font-family: monospace;font-weight: bold;display: inline-block;line-height: 1.2em;}#sk-container-id-1 div.sk-label-container {text-align: center;}#sk-container-id-1 div.sk-container {/* jupyter's `normalize.less` sets `[hidden] { display: none; }` but bootstrap.min.css set `[hidden] { display: none !important; }` so we also need the `!important` here to be able to override the default hidden behavior on the sphinx rendered scikit-learn.org. See: https://github.com/scikit-learn/scikit-learn/issues/21755 */display: inline-block !important;position: relative;}#sk-container-id-1 div.sk-text-repr-fallback {display: none;}</style><div id=\"sk-container-id-1\" class=\"sk-top-container\"><div class=\"sk-text-repr-fallback\"><pre>LinearRegression()</pre><b>In a Jupyter environment, please rerun this cell to show the HTML representation or trust the notebook. <br />On GitHub, the HTML representation is unable to render, please try loading this page with nbviewer.org.</b></div><div class=\"sk-container\" hidden><div class=\"sk-item\"><div class=\"sk-estimator sk-toggleable\"><input class=\"sk-toggleable__control sk-hidden--visually\" id=\"sk-estimator-id-1\" type=\"checkbox\" checked><label for=\"sk-estimator-id-1\" class=\"sk-toggleable__label sk-toggleable__label-arrow\">LinearRegression</label><div class=\"sk-toggleable__content\"><pre>LinearRegression()</pre></div></div></div></div></div>"
      ],
      "text/plain": [
       "LinearRegression()"
      ]
     },
     "execution_count": 4,
     "metadata": {},
     "output_type": "execute_result"
    }
   ],
   "source": [
    "from sklearn.linear_model import LinearRegression\n",
    "lr = LinearRegression()\n",
    "lr.fit(X_train, y_train)"
   ]
  },
  {
   "cell_type": "code",
   "execution_count": 5,
   "id": "c41ca821",
   "metadata": {
    "execution": {
     "iopub.execute_input": "2024-02-27T13:36:19.575822Z",
     "iopub.status.busy": "2024-02-27T13:36:19.574354Z",
     "iopub.status.idle": "2024-02-27T13:36:19.582569Z",
     "shell.execute_reply": "2024-02-27T13:36:19.581640Z"
    },
    "papermill": {
     "duration": 0.016589,
     "end_time": "2024-02-27T13:36:19.585066",
     "exception": false,
     "start_time": "2024-02-27T13:36:19.568477",
     "status": "completed"
    },
    "tags": []
   },
   "outputs": [
    {
     "name": "stdout",
     "output_type": "stream",
     "text": [
      "8564.68466898955\n",
      "29645.86109175375\n"
     ]
    }
   ],
   "source": [
    "# extract coeff. of linear equation y = nX + m\n",
    "b = lr.intercept_\n",
    "a = lr.coef_\n",
    "\n",
    "print(a[0])\n",
    "print(b)"
   ]
  },
  {
   "cell_type": "code",
   "execution_count": 6,
   "id": "14375677",
   "metadata": {
    "execution": {
     "iopub.execute_input": "2024-02-27T13:36:19.597280Z",
     "iopub.status.busy": "2024-02-27T13:36:19.595668Z",
     "iopub.status.idle": "2024-02-27T13:36:20.004392Z",
     "shell.execute_reply": "2024-02-27T13:36:20.002665Z"
    },
    "papermill": {
     "duration": 0.418988,
     "end_time": "2024-02-27T13:36:20.008494",
     "exception": false,
     "start_time": "2024-02-27T13:36:19.589506",
     "status": "completed"
    },
    "tags": []
   },
   "outputs": [
    {
     "data": {
      "text/plain": [
       "[<matplotlib.lines.Line2D at 0x7f2b71e16230>]"
      ]
     },
     "execution_count": 6,
     "metadata": {},
     "output_type": "execute_result"
    },
    {
     "data": {
      "image/png": "[encoded data removed]",
      "text/plain": [
       "<Figure size 640x480 with 1 Axes>"
      ]
     },
     "metadata": {},
     "output_type": "display_data"
    }
   ],
   "source": [
    "# plot of prediction in comparison to scatter actual data\n",
    "import matplotlib.pyplot as plt \n",
    "\n",
    "plt.scatter(X, y)\n",
    "\n",
    "plt.xlabel('Years of Experience')\n",
    "plt.ylabel('Salary')\n",
    "\n",
    "y_pred_train = lr.predict(X_train)\n",
    "plt.plot(X_train, y_pred_train, color='RED')"
   ]
  },
  {
   "cell_type": "code",
   "execution_count": null,
   "id": "692bbac1",
   "metadata": {
    "papermill": {
     "duration": 0.005239,
     "end_time": "2024-02-27T13:36:20.018928",
     "exception": false,
     "start_time": "2024-02-27T13:36:20.013689",
     "status": "completed"
    },
    "tags": []
   },
   "outputs": [],
   "source": []
  }
 ],
 "metadata": {
  "kaggle": {
   "accelerator": "none",
   "dataSources": [
    {
     "datasetId": 80116,
     "sourceId": 186341,
     "sourceType": "datasetVersion"
    }
   ],
   "dockerImageVersionId": 30646,
   "isGpuEnabled": false,
   "isInternetEnabled": false,
   "language": "python",
   "sourceType": "notebook"
  },
  "kernelspec": {
   "display_name": "Python 3",
   "language": "python",
   "name": "python3"
  },
  "language_info": {
   "codemirror_mode": {
    "name": "ipython",
    "version": 3
   },
   "file_extension": ".py",
   "mimetype": "text/x-python",
   "name": "python",
   "nbconvert_exporter": "python",
   "pygments_lexer": "ipython3",
   "version": "3.10.13"
  },
  "papermill": {
   "default_parameters": {},
   "duration": 7.469322,
   "end_time": "2024-02-27T13:36:20.847999",
   "environment_variables": {},
   "exception": null,
   "input_path": "__notebook__.ipynb",
   "output_path": "__notebook__.ipynb",
   "parameters": {},
   "start_time": "2024-02-27T13:36:13.378677",
   "version": "2.5.0"
  }
 },
 "nbformat": 4,
 "nbformat_minor": 5
}
