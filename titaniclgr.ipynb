{
 "cells": [
  {
   "cell_type": "code",
   "execution_count": 1,
   "id": "20743bf9",
   "metadata": {
    "_cell_guid": "b1076dfc-b9ad-4769-8c92-a6c4dae69d19",
    "_uuid": "8f2839f25d086af736a60e9eeb907d3b93b6e0e5",
    "execution": {
     "iopub.execute_input": "2024-03-03T16:31:59.582719Z",
     "iopub.status.busy": "2024-03-03T16:31:59.582041Z",
     "iopub.status.idle": "2024-03-03T16:32:02.131920Z",
     "shell.execute_reply": "2024-03-03T16:32:02.130656Z"
    },
    "papermill": {
     "duration": 2.557976,
     "end_time": "2024-03-03T16:32:02.134279",
     "exception": false,
     "start_time": "2024-03-03T16:31:59.576303",
     "status": "completed"
    },
    "tags": []
   },
   "outputs": [
    {
     "name": "stdout",
     "output_type": "stream",
     "text": [
      "/kaggle/input/titanic-machine-learning-from-disaster/train.csv\n",
      "/kaggle/input/titanic-machine-learning-from-disaster/test.csv\n"
     ]
    }
   ],
   "source": [
    "import numpy as np \n",
    "import pandas as pd \n",
    "from sklearn.preprocessing import LabelEncoder\n",
    "from sklearn.linear_model import LogisticRegression\n",
    "from sklearn.model_selection import train_test_split\n",
    "from sklearn.metrics import accuracy_score, f1_score\n",
    "\n",
    "import warnings\n",
    "warnings.simplefilter(action='ignore', category=FutureWarning)\n",
    "\n",
    "import os\n",
    "for dirname, _, filenames in os.walk('/kaggle/input'):\n",
    "    for filename in filenames:\n",
    "        print(os.path.join(dirname, filename))\n",
    "\n",
    "data = pd.read_csv('/kaggle/input/titanic-machine-learning-from-disaster/train.csv')\n",
    "test = pd.read_csv('/kaggle/input/titanic-machine-learning-from-disaster/test.csv')\n",
    "test_ids = test['PassengerId']"
   ]
  },
  {
   "cell_type": "code",
   "execution_count": 2,
   "id": "62e0691f",
   "metadata": {
    "execution": {
     "iopub.execute_input": "2024-03-03T16:32:02.143374Z",
     "iopub.status.busy": "2024-03-03T16:32:02.142953Z",
     "iopub.status.idle": "2024-03-03T16:32:02.148812Z",
     "shell.execute_reply": "2024-03-03T16:32:02.147863Z"
    },
    "papermill": {
     "duration": 0.012835,
     "end_time": "2024-03-03T16:32:02.150943",
     "exception": false,
     "start_time": "2024-03-03T16:32:02.138108",
     "status": "completed"
    },
    "tags": []
   },
   "outputs": [],
   "source": [
    "def clean(data):\n",
    "    \n",
    "    data=data.drop([\"Ticket\", \"Cabin\", \"Name\", \"PassengerId\"], axis=1)\n",
    "    \n",
    "    cols = ['Age', 'Fare', 'Parch', 'SibSp']\n",
    "    for col in cols:\n",
    "        data[col].fillna(data[col].median(), inplace=True)\n",
    "        \n",
    "    data.Embarked.fillna('U', inplace=True)\n",
    "    return data"
   ]
  },
  {
   "cell_type": "code",
   "execution_count": 3,
   "id": "9607f598",
   "metadata": {
    "execution": {
     "iopub.execute_input": "2024-03-03T16:32:02.159908Z",
     "iopub.status.busy": "2024-03-03T16:32:02.159109Z",
     "iopub.status.idle": "2024-03-03T16:32:02.185901Z",
     "shell.execute_reply": "2024-03-03T16:32:02.184328Z"
    },
    "papermill": {
     "duration": 0.034253,
     "end_time": "2024-03-03T16:32:02.188673",
     "exception": false,
     "start_time": "2024-03-03T16:32:02.154420",
     "status": "completed"
    },
    "tags": []
   },
   "outputs": [
    {
     "name": "stdout",
     "output_type": "stream",
     "text": [
      "Pclass      0\n",
      "Sex         0\n",
      "Age         0\n",
      "SibSp       0\n",
      "Parch       0\n",
      "Fare        0\n",
      "Embarked    0\n",
      "dtype: int64\n",
      "Survived    0\n",
      "Pclass      0\n",
      "Sex         0\n",
      "Age         0\n",
      "SibSp       0\n",
      "Parch       0\n",
      "Fare        0\n",
      "Embarked    0\n",
      "dtype: int64\n"
     ]
    }
   ],
   "source": [
    "data=clean(data)\n",
    "test=clean(test)\n",
    "\n",
    "print(test.isnull().sum())\n",
    "print(data.isnull().sum())"
   ]
  },
  {
   "cell_type": "code",
   "execution_count": 4,
   "id": "bcd648d6",
   "metadata": {
    "execution": {
     "iopub.execute_input": "2024-03-03T16:32:02.197376Z",
     "iopub.status.busy": "2024-03-03T16:32:02.196960Z",
     "iopub.status.idle": "2024-03-03T16:32:02.207956Z",
     "shell.execute_reply": "2024-03-03T16:32:02.206623Z"
    },
    "papermill": {
     "duration": 0.018145,
     "end_time": "2024-03-03T16:32:02.210280",
     "exception": false,
     "start_time": "2024-03-03T16:32:02.192135",
     "status": "completed"
    },
    "tags": []
   },
   "outputs": [
    {
     "name": "stdout",
     "output_type": "stream",
     "text": [
      "['female' 'male']\n",
      "['C' 'Q' 'S' 'U']\n"
     ]
    }
   ],
   "source": [
    "le = LabelEncoder()\n",
    "\n",
    "cols = ['Sex', 'Embarked']\n",
    "for col in cols:\n",
    "    data[col] = le.fit_transform(data[col])\n",
    "    test[col] = le.transform(test[col])\n",
    "    \n",
    "    print(le.classes_)"
   ]
  },
  {
   "cell_type": "code",
   "execution_count": 5,
   "id": "60dc9e3a",
   "metadata": {
    "execution": {
     "iopub.execute_input": "2024-03-03T16:32:02.219312Z",
     "iopub.status.busy": "2024-03-03T16:32:02.218907Z",
     "iopub.status.idle": "2024-03-03T16:32:02.231586Z",
     "shell.execute_reply": "2024-03-03T16:32:02.230397Z"
    },
    "papermill": {
     "duration": 0.020255,
     "end_time": "2024-03-03T16:32:02.234327",
     "exception": false,
     "start_time": "2024-03-03T16:32:02.214072",
     "status": "completed"
    },
    "tags": []
   },
   "outputs": [],
   "source": [
    "lr = LogisticRegression()\n",
    "\n",
    "y = data['Survived']\n",
    "X = data.drop('Survived', axis=1)\n",
    "\n",
    "X_train, X_test, y_train, y_test = train_test_split(X, y, test_size=0.2, random_state=42)"
   ]
  },
  {
   "cell_type": "code",
   "execution_count": 6,
   "id": "c901ea78",
   "metadata": {
    "execution": {
     "iopub.execute_input": "2024-03-03T16:32:02.242933Z",
     "iopub.status.busy": "2024-03-03T16:32:02.242529Z",
     "iopub.status.idle": "2024-03-03T16:32:02.251190Z",
     "shell.execute_reply": "2024-03-03T16:32:02.249917Z"
    },
    "papermill": {
     "duration": 0.016378,
     "end_time": "2024-03-03T16:32:02.254212",
     "exception": false,
     "start_time": "2024-03-03T16:32:02.237834",
     "status": "completed"
    },
    "tags": []
   },
   "outputs": [
    {
     "name": "stdout",
     "output_type": "stream",
     "text": [
      "Pclass      0\n",
      "Sex         0\n",
      "Age         0\n",
      "SibSp       0\n",
      "Parch       0\n",
      "Fare        0\n",
      "Embarked    0\n",
      "dtype: int64\n"
     ]
    }
   ],
   "source": [
    "print(X_train.isnull().sum())\n",
    "\n",
    "X_train['Age'].fillna(value=X_train['Age'].mean(), inplace=True)\n",
    "X_test['Age'].fillna(value=X_test['Age'].mean(), inplace=True)"
   ]
  },
  {
   "cell_type": "code",
   "execution_count": 7,
   "id": "716eed2c",
   "metadata": {
    "execution": {
     "iopub.execute_input": "2024-03-03T16:32:02.263246Z",
     "iopub.status.busy": "2024-03-03T16:32:02.262826Z",
     "iopub.status.idle": "2024-03-03T16:32:02.301996Z",
     "shell.execute_reply": "2024-03-03T16:32:02.300303Z"
    },
    "papermill": {
     "duration": 0.047195,
     "end_time": "2024-03-03T16:32:02.305057",
     "exception": false,
     "start_time": "2024-03-03T16:32:02.257862",
     "status": "completed"
    },
    "tags": []
   },
   "outputs": [],
   "source": [
    "clf = LogisticRegression(random_state=0, max_iter=1000).fit(X_train, y_train)"
   ]
  },
  {
   "cell_type": "code",
   "execution_count": 8,
   "id": "30e5848c",
   "metadata": {
    "execution": {
     "iopub.execute_input": "2024-03-03T16:32:02.315045Z",
     "iopub.status.busy": "2024-03-03T16:32:02.314475Z",
     "iopub.status.idle": "2024-03-03T16:32:02.324089Z",
     "shell.execute_reply": "2024-03-03T16:32:02.323166Z"
    },
    "papermill": {
     "duration": 0.018663,
     "end_time": "2024-03-03T16:32:02.327575",
     "exception": false,
     "start_time": "2024-03-03T16:32:02.308912",
     "status": "completed"
    },
    "tags": []
   },
   "outputs": [
    {
     "name": "stdout",
     "output_type": "stream",
     "text": [
      "81.0\n"
     ]
    }
   ],
   "source": [
    "predictions = clf.predict(X_test)\n",
    "test_score = accuracy_score(predictions, y_test)\n",
    "\n",
    "print(int(test_score * 1000) / 10)"
   ]
  },
  {
   "cell_type": "code",
   "execution_count": 9,
   "id": "ff9802d3",
   "metadata": {
    "execution": {
     "iopub.execute_input": "2024-03-03T16:32:02.337736Z",
     "iopub.status.busy": "2024-03-03T16:32:02.336721Z",
     "iopub.status.idle": "2024-03-03T16:32:02.348999Z",
     "shell.execute_reply": "2024-03-03T16:32:02.347703Z"
    },
    "papermill": {
     "duration": 0.020935,
     "end_time": "2024-03-03T16:32:02.352498",
     "exception": false,
     "start_time": "2024-03-03T16:32:02.331563",
     "status": "completed"
    },
    "tags": []
   },
   "outputs": [],
   "source": [
    "submission_predictions = clf.predict(test)\n",
    "\n",
    "df = pd.DataFrame({'PassengerId': test_ids.values,\n",
    "                   'Survived': submission_predictions,})\n",
    "\n",
    "df.to_csv('./submission.csv', index=False)"
   ]
  }
 ],
 "metadata": {
  "kaggle": {
   "accelerator": "none",
   "dataSources": [
    {
     "datasetId": 3064,
     "sourceId": 5101,
     "sourceType": "datasetVersion"
    }
   ],
   "dockerImageVersionId": 30664,
   "isGpuEnabled": false,
   "isInternetEnabled": false,
   "language": "python",
   "sourceType": "notebook"
  },
  "kernelspec": {
   "display_name": "Python 3",
   "language": "python",
   "name": "python3"
  },
  "language_info": {
   "codemirror_mode": {
    "name": "ipython",
    "version": 3
   },
   "file_extension": ".py",
   "mimetype": "text/x-python",
   "name": "python",
   "nbconvert_exporter": "python",
   "pygments_lexer": "ipython3",
   "version": "3.10.13"
  },
  "papermill": {
   "default_parameters": {},
   "duration": 6.31898,
   "end_time": "2024-03-03T16:32:02.979212",
   "environment_variables": {},
   "exception": null,
   "input_path": "__notebook__.ipynb",
   "output_path": "__notebook__.ipynb",
   "parameters": {},
   "start_time": "2024-03-03T16:31:56.660232",
   "version": "2.5.0"
  }
 },
 "nbformat": 4,
 "nbformat_minor": 5
}
